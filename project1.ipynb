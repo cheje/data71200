{
 "cells": [
  {
   "cell_type": "markdown",
   "id": "fbe71390",
   "metadata": {},
   "source": [
    "# Step 1: Find and download a dataset\n",
    "\n",
    "The [Palmer penguins dataset](https://education.rstudio.com/blog/2020/07/palmerpenguins-cran/), which originated as an [`R` package](https://allisonhorst.github.io/palmerpenguins/), contains information on 344 penguins found across three islands on Antarctica's Palmer Archipelago. The penguins belong to one of three species. The provided variables allow for predicting the species based on each penguin's physical characteristics and location."
   ]
  },
  {
   "cell_type": "code",
   "execution_count": 126,
   "id": "6196f1d4",
   "metadata": {},
   "outputs": [],
   "source": [
    "import pandas as pd\n",
    "import numpy as np\n",
    "import seaborn as sns # to access the penguin dataset in Python"
   ]
  },
  {
   "cell_type": "markdown",
   "id": "fifty-poultry",
   "metadata": {},
   "source": [
    "Load dataset via the `seaborn` package:"
   ]
  },
  {
   "cell_type": "code",
   "execution_count": 127,
   "id": "b1968cd0",
   "metadata": {
    "scrolled": true
   },
   "outputs": [
    {
     "data": {
      "text/html": [
       "<div>\n",
       "<style scoped>\n",
       "    .dataframe tbody tr th:only-of-type {\n",
       "        vertical-align: middle;\n",
       "    }\n",
       "\n",
       "    .dataframe tbody tr th {\n",
       "        vertical-align: top;\n",
       "    }\n",
       "\n",
       "    .dataframe thead th {\n",
       "        text-align: right;\n",
       "    }\n",
       "</style>\n",
       "<table border=\"1\" class=\"dataframe\">\n",
       "  <thead>\n",
       "    <tr style=\"text-align: right;\">\n",
       "      <th></th>\n",
       "      <th>species</th>\n",
       "      <th>island</th>\n",
       "      <th>bill_length_mm</th>\n",
       "      <th>bill_depth_mm</th>\n",
       "      <th>flipper_length_mm</th>\n",
       "      <th>body_mass_g</th>\n",
       "      <th>sex</th>\n",
       "    </tr>\n",
       "  </thead>\n",
       "  <tbody>\n",
       "    <tr>\n",
       "      <th>0</th>\n",
       "      <td>Adelie</td>\n",
       "      <td>Torgersen</td>\n",
       "      <td>39.1</td>\n",
       "      <td>18.7</td>\n",
       "      <td>181.0</td>\n",
       "      <td>3750.0</td>\n",
       "      <td>Male</td>\n",
       "    </tr>\n",
       "    <tr>\n",
       "      <th>1</th>\n",
       "      <td>Adelie</td>\n",
       "      <td>Torgersen</td>\n",
       "      <td>39.5</td>\n",
       "      <td>17.4</td>\n",
       "      <td>186.0</td>\n",
       "      <td>3800.0</td>\n",
       "      <td>Female</td>\n",
       "    </tr>\n",
       "    <tr>\n",
       "      <th>2</th>\n",
       "      <td>Adelie</td>\n",
       "      <td>Torgersen</td>\n",
       "      <td>40.3</td>\n",
       "      <td>18.0</td>\n",
       "      <td>195.0</td>\n",
       "      <td>3250.0</td>\n",
       "      <td>Female</td>\n",
       "    </tr>\n",
       "    <tr>\n",
       "      <th>3</th>\n",
       "      <td>Adelie</td>\n",
       "      <td>Torgersen</td>\n",
       "      <td>NaN</td>\n",
       "      <td>NaN</td>\n",
       "      <td>NaN</td>\n",
       "      <td>NaN</td>\n",
       "      <td>NaN</td>\n",
       "    </tr>\n",
       "    <tr>\n",
       "      <th>4</th>\n",
       "      <td>Adelie</td>\n",
       "      <td>Torgersen</td>\n",
       "      <td>36.7</td>\n",
       "      <td>19.3</td>\n",
       "      <td>193.0</td>\n",
       "      <td>3450.0</td>\n",
       "      <td>Female</td>\n",
       "    </tr>\n",
       "  </tbody>\n",
       "</table>\n",
       "</div>"
      ],
      "text/plain": [
       "  species     island  bill_length_mm  bill_depth_mm  flipper_length_mm  \\\n",
       "0  Adelie  Torgersen            39.1           18.7              181.0   \n",
       "1  Adelie  Torgersen            39.5           17.4              186.0   \n",
       "2  Adelie  Torgersen            40.3           18.0              195.0   \n",
       "3  Adelie  Torgersen             NaN            NaN                NaN   \n",
       "4  Adelie  Torgersen            36.7           19.3              193.0   \n",
       "\n",
       "   body_mass_g     sex  \n",
       "0       3750.0    Male  \n",
       "1       3800.0  Female  \n",
       "2       3250.0  Female  \n",
       "3          NaN     NaN  \n",
       "4       3450.0  Female  "
      ]
     },
     "execution_count": 127,
     "metadata": {},
     "output_type": "execute_result"
    }
   ],
   "source": [
    "penguins_raw = sns.load_dataset(\"penguins\")\n",
    "penguins_raw.head()"
   ]
  },
  {
   "cell_type": "markdown",
   "id": "superb-discussion",
   "metadata": {},
   "source": [
    "Checking if there are at least 10 samples per dimension:"
   ]
  },
  {
   "cell_type": "code",
   "execution_count": 128,
   "id": "periodic-conviction",
   "metadata": {},
   "outputs": [
    {
     "data": {
      "text/plain": [
       "Adelie       152\n",
       "Gentoo       124\n",
       "Chinstrap     68\n",
       "Name: species, dtype: int64"
      ]
     },
     "execution_count": 128,
     "metadata": {},
     "output_type": "execute_result"
    }
   ],
   "source": [
    "penguins_raw[\"species\"].value_counts()"
   ]
  },
  {
   "cell_type": "markdown",
   "id": "choice-interference",
   "metadata": {},
   "source": [
    "Get proportion of each label (i.e. penguin species) ([source](https://stackoverflow.com/questions/50558458/pandas-get-frequency-of-item-occurrences-in-a-column-as-percentage))"
   ]
  },
  {
   "cell_type": "code",
   "execution_count": 129,
   "id": "thermal-yahoo",
   "metadata": {},
   "outputs": [
    {
     "data": {
      "text/plain": [
       "Adelie       44.186047\n",
       "Gentoo       36.046512\n",
       "Chinstrap    19.767442\n",
       "Name: species, dtype: float64"
      ]
     },
     "execution_count": 129,
     "metadata": {},
     "output_type": "execute_result"
    }
   ],
   "source": [
    "penguins_raw[\"species\"].value_counts(normalize=True) * 100"
   ]
  },
  {
   "cell_type": "markdown",
   "id": "hungry-request",
   "metadata": {},
   "source": [
    "Checking that there are in fact 344 penguin samples:"
   ]
  },
  {
   "cell_type": "code",
   "execution_count": 130,
   "id": "extended-forest",
   "metadata": {},
   "outputs": [
    {
     "name": "stdout",
     "output_type": "stream",
     "text": [
      "Rows/Samples: 344 \n",
      "Columns/Variables: 7\n"
     ]
    }
   ],
   "source": [
    "# shape of dataset\n",
    "print(\"Rows/Samples:\", penguins_raw.shape[0],\n",
    "      \"\\nColumns/Variables:\", penguins_raw.shape[1])"
   ]
  },
  {
   "cell_type": "markdown",
   "id": "corporate-potato",
   "metadata": {},
   "source": [
    "# Step 2: Divide into a training set and a testing set"
   ]
  },
  {
   "cell_type": "markdown",
   "id": "fiscal-passage",
   "metadata": {},
   "source": [
    "*Divide data into training and testing sets:*"
   ]
  },
  {
   "cell_type": "code",
   "execution_count": 131,
   "id": "major-davis",
   "metadata": {},
   "outputs": [],
   "source": [
    "from sklearn.model_selection import train_test_split"
   ]
  },
  {
   "cell_type": "code",
   "execution_count": 132,
   "id": "moderate-pakistan",
   "metadata": {},
   "outputs": [],
   "source": [
    "# drop target variable and variable not being used (categorical)\n",
    "X = penguins_raw.drop([\"species\"], axis=1)\n",
    "\n",
    "# target variable\n",
    "y = penguins_raw[\"species\"]\n",
    "\n",
    "# split data and labels into a training and a test set\n",
    "X_train, X_test, y_train, y_test = train_test_split(X, y, random_state=0) "
   ]
  },
  {
   "cell_type": "markdown",
   "id": "caring-launch",
   "metadata": {},
   "source": [
    "*Are testing and training sets are balanced in terms of target classes?* Using `stratify` parameter ([source](https://campus.datacamp.com/courses/preprocessing-for-machine-learning-in-python/introduction-to-data-preprocessing?ex=9))"
   ]
  },
  {
   "cell_type": "code",
   "execution_count": 133,
   "id": "civilian-overview",
   "metadata": {},
   "outputs": [
    {
     "data": {
      "text/plain": [
       "Adelie       42.635659\n",
       "Gentoo       36.434109\n",
       "Chinstrap    20.930233\n",
       "Name: species, dtype: float64"
      ]
     },
     "execution_count": 133,
     "metadata": {},
     "output_type": "execute_result"
    }
   ],
   "source": [
    "# species breakdown as % before setting \"stratify\" in train_test_split()\n",
    "y_train.value_counts(normalize=True) * 100\n",
    "# result: pretty ok"
   ]
  },
  {
   "cell_type": "code",
   "execution_count": 134,
   "id": "buried-faculty",
   "metadata": {},
   "outputs": [
    {
     "data": {
      "text/plain": [
       "Adelie       48.837209\n",
       "Gentoo       34.883721\n",
       "Chinstrap    16.279070\n",
       "Name: species, dtype: float64"
      ]
     },
     "execution_count": 134,
     "metadata": {},
     "output_type": "execute_result"
    }
   ],
   "source": [
    "# species breakdown as % before setting \"stratify\" in train_test_split()\n",
    "y_test.value_counts(normalize=True) * 100\n",
    "# result: not as ok"
   ]
  },
  {
   "cell_type": "code",
   "execution_count": 135,
   "id": "defensive-finger",
   "metadata": {},
   "outputs": [],
   "source": [
    "# set \"stratify\" parameter (where y refers to the labels/target dataset)\n",
    "X_train, X_test, y_train, y_test = train_test_split(X, y, stratify=y, random_state=0) "
   ]
  },
  {
   "cell_type": "code",
   "execution_count": 136,
   "id": "nearby-martin",
   "metadata": {},
   "outputs": [
    {
     "data": {
      "text/plain": [
       "Adelie       44.186047\n",
       "Gentoo       36.046512\n",
       "Chinstrap    19.767442\n",
       "Name: species, dtype: float64"
      ]
     },
     "execution_count": 136,
     "metadata": {},
     "output_type": "execute_result"
    }
   ],
   "source": [
    "# species breakdown as % after setting \"stratify\" parameter\n",
    "y_train.value_counts(normalize=True) * 100\n",
    "# result: good"
   ]
  },
  {
   "cell_type": "code",
   "execution_count": 137,
   "id": "catholic-state",
   "metadata": {},
   "outputs": [
    {
     "data": {
      "text/plain": [
       "Adelie       44.186047\n",
       "Gentoo       36.046512\n",
       "Chinstrap    19.767442\n",
       "Name: species, dtype: float64"
      ]
     },
     "execution_count": 137,
     "metadata": {},
     "output_type": "execute_result"
    }
   ],
   "source": [
    "# as % after setting \"stratify\" parameter\n",
    "y_test.value_counts(normalize=True) * 100\n",
    "# result: good"
   ]
  },
  {
   "cell_type": "code",
   "execution_count": 138,
   "id": "detailed-viewer",
   "metadata": {},
   "outputs": [
    {
     "name": "stdout",
     "output_type": "stream",
     "text": [
      "X_train shape (rows, columns): (258, 6)\n",
      "y_train shape: (258,)\n",
      "X_test shape: (86, 6)\n",
      "y_test shape: (86,)\n"
     ]
    }
   ],
   "source": [
    "# Training data (75%) dimensions \n",
    "print(\"X_train shape (rows, columns):\", X_train.shape)\n",
    "print(\"y_train shape:\", y_train.shape)\n",
    "# Testing data (25%) dimensions \n",
    "print(\"X_test shape:\", X_test.shape)\n",
    "print(\"y_test shape:\", y_test.shape)"
   ]
  },
  {
   "cell_type": "markdown",
   "id": "personal-drive",
   "metadata": {},
   "source": [
    "# Step 3: Explore your training set"
   ]
  },
  {
   "cell_type": "code",
   "execution_count": 139,
   "id": "several-member",
   "metadata": {},
   "outputs": [
    {
     "name": "stdout",
     "output_type": "stream",
     "text": [
      "<class 'pandas.core.frame.DataFrame'>\n",
      "Int64Index: 258 entries, 286 to 295\n",
      "Data columns (total 6 columns):\n",
      " #   Column             Non-Null Count  Dtype  \n",
      "---  ------             --------------  -----  \n",
      " 0   island             258 non-null    object \n",
      " 1   bill_length_mm     257 non-null    float64\n",
      " 2   bill_depth_mm      257 non-null    float64\n",
      " 3   flipper_length_mm  257 non-null    float64\n",
      " 4   body_mass_g        257 non-null    float64\n",
      " 5   sex                250 non-null    object \n",
      "dtypes: float64(4), object(2)\n",
      "memory usage: 14.1+ KB\n"
     ]
    }
   ],
   "source": [
    "X_train.info() # gives variables, # of non-NA values, data type"
   ]
  },
  {
   "cell_type": "code",
   "execution_count": 140,
   "id": "encouraging-chaos",
   "metadata": {},
   "outputs": [
    {
     "data": {
      "text/plain": [
       "island               0\n",
       "bill_length_mm       1\n",
       "bill_depth_mm        1\n",
       "flipper_length_mm    1\n",
       "body_mass_g          1\n",
       "sex                  8\n",
       "dtype: int64"
      ]
     },
     "execution_count": 140,
     "metadata": {},
     "output_type": "execute_result"
    }
   ],
   "source": [
    "# for reference, the number of missing values per variable\n",
    "X_train.isnull().sum()"
   ]
  },
  {
   "cell_type": "markdown",
   "id": "electronic-transportation",
   "metadata": {},
   "source": [
    "### See factors of each categorical variable:"
   ]
  },
  {
   "cell_type": "code",
   "execution_count": 141,
   "id": "cleared-scene",
   "metadata": {},
   "outputs": [
    {
     "data": {
      "text/plain": [
       "Biscoe       49.612403\n",
       "Dream        35.271318\n",
       "Torgersen    15.116279\n",
       "Name: island, dtype: float64"
      ]
     },
     "execution_count": 141,
     "metadata": {},
     "output_type": "execute_result"
    }
   ],
   "source": [
    "# island breakdown\n",
    "X_train[\"island\"].value_counts(normalize=True) * 100"
   ]
  },
  {
   "cell_type": "code",
   "execution_count": 142,
   "id": "economic-belief",
   "metadata": {},
   "outputs": [
    {
     "data": {
      "text/plain": [
       "Female    52.4\n",
       "Male      47.6\n",
       "Name: sex, dtype: float64"
      ]
     },
     "execution_count": 142,
     "metadata": {},
     "output_type": "execute_result"
    }
   ],
   "source": [
    "# sex breakdown\n",
    "X_train[\"sex\"].value_counts(normalize=True) * 100"
   ]
  },
  {
   "cell_type": "markdown",
   "id": "committed-accountability",
   "metadata": {},
   "source": [
    "### Statistical summary for numeric variables:"
   ]
  },
  {
   "cell_type": "code",
   "execution_count": 143,
   "id": "hungarian-domain",
   "metadata": {},
   "outputs": [
    {
     "data": {
      "text/html": [
       "<div>\n",
       "<style scoped>\n",
       "    .dataframe tbody tr th:only-of-type {\n",
       "        vertical-align: middle;\n",
       "    }\n",
       "\n",
       "    .dataframe tbody tr th {\n",
       "        vertical-align: top;\n",
       "    }\n",
       "\n",
       "    .dataframe thead th {\n",
       "        text-align: right;\n",
       "    }\n",
       "</style>\n",
       "<table border=\"1\" class=\"dataframe\">\n",
       "  <thead>\n",
       "    <tr style=\"text-align: right;\">\n",
       "      <th></th>\n",
       "      <th>bill_length_mm</th>\n",
       "      <th>bill_depth_mm</th>\n",
       "      <th>flipper_length_mm</th>\n",
       "      <th>body_mass_g</th>\n",
       "    </tr>\n",
       "  </thead>\n",
       "  <tbody>\n",
       "    <tr>\n",
       "      <th>count</th>\n",
       "      <td>257.000000</td>\n",
       "      <td>257.000000</td>\n",
       "      <td>257.000000</td>\n",
       "      <td>257.000000</td>\n",
       "    </tr>\n",
       "    <tr>\n",
       "      <th>mean</th>\n",
       "      <td>43.852140</td>\n",
       "      <td>17.074319</td>\n",
       "      <td>200.914397</td>\n",
       "      <td>4183.463035</td>\n",
       "    </tr>\n",
       "    <tr>\n",
       "      <th>std</th>\n",
       "      <td>5.432275</td>\n",
       "      <td>1.923305</td>\n",
       "      <td>14.176085</td>\n",
       "      <td>803.136473</td>\n",
       "    </tr>\n",
       "    <tr>\n",
       "      <th>min</th>\n",
       "      <td>33.100000</td>\n",
       "      <td>13.100000</td>\n",
       "      <td>172.000000</td>\n",
       "      <td>2700.000000</td>\n",
       "    </tr>\n",
       "    <tr>\n",
       "      <th>25%</th>\n",
       "      <td>39.100000</td>\n",
       "      <td>15.600000</td>\n",
       "      <td>190.000000</td>\n",
       "      <td>3550.000000</td>\n",
       "    </tr>\n",
       "    <tr>\n",
       "      <th>50%</th>\n",
       "      <td>44.500000</td>\n",
       "      <td>17.300000</td>\n",
       "      <td>197.000000</td>\n",
       "      <td>4000.000000</td>\n",
       "    </tr>\n",
       "    <tr>\n",
       "      <th>75%</th>\n",
       "      <td>48.500000</td>\n",
       "      <td>18.600000</td>\n",
       "      <td>213.000000</td>\n",
       "      <td>4750.000000</td>\n",
       "    </tr>\n",
       "    <tr>\n",
       "      <th>max</th>\n",
       "      <td>58.000000</td>\n",
       "      <td>21.200000</td>\n",
       "      <td>231.000000</td>\n",
       "      <td>6300.000000</td>\n",
       "    </tr>\n",
       "  </tbody>\n",
       "</table>\n",
       "</div>"
      ],
      "text/plain": [
       "       bill_length_mm  bill_depth_mm  flipper_length_mm  body_mass_g\n",
       "count      257.000000     257.000000         257.000000   257.000000\n",
       "mean        43.852140      17.074319         200.914397  4183.463035\n",
       "std          5.432275       1.923305          14.176085   803.136473\n",
       "min         33.100000      13.100000         172.000000  2700.000000\n",
       "25%         39.100000      15.600000         190.000000  3550.000000\n",
       "50%         44.500000      17.300000         197.000000  4000.000000\n",
       "75%         48.500000      18.600000         213.000000  4750.000000\n",
       "max         58.000000      21.200000         231.000000  6300.000000"
      ]
     },
     "execution_count": 143,
     "metadata": {},
     "output_type": "execute_result"
    }
   ],
   "source": [
    "X_train.describe()"
   ]
  },
  {
   "cell_type": "code",
   "execution_count": 144,
   "id": "settled-cache",
   "metadata": {},
   "outputs": [
    {
     "data": {
      "text/plain": [
       "0"
      ]
     },
     "execution_count": 144,
     "metadata": {},
     "output_type": "execute_result"
    }
   ],
   "source": [
    "y_train.isnull().sum() # Any missing values in training set for target variable (y)? No"
   ]
  },
  {
   "cell_type": "code",
   "execution_count": 145,
   "id": "operating-middle",
   "metadata": {},
   "outputs": [
    {
     "data": {
      "text/plain": [
       "Adelie       114\n",
       "Gentoo        93\n",
       "Chinstrap     51\n",
       "Name: species, dtype: int64"
      ]
     },
     "execution_count": 145,
     "metadata": {},
     "output_type": "execute_result"
    }
   ],
   "source": [
    "y_train.value_counts()"
   ]
  },
  {
   "cell_type": "markdown",
   "id": "mexican-honey",
   "metadata": {},
   "source": [
    "Summary of data exploration:\n",
    "\n",
    "| | Variable | Data Type | No. of NA Values | Factors/Range |\n",
    "| ------ | ------ | ------ | ------ | ------ |\n",
    "| 01 | `island` | `string` | 0 | `Biscoe`, `Dream`, `Torgersen` |\n",
    "| 02 | `bill_length_mm` | `float` | 1 | 33.1-58 mm |\n",
    "| 03 | `bill_depth_mm` | `float` | 1 | 13.1-21.2 mm |\n",
    "| 04 | `flipper_length_mm` | `float` | 1 | 172-231 mm |\n",
    "| 05 | `body_mass_g` | `float` | 1 | 2,700-6,300 g |\n",
    "| 06 | `sex` | `string` | 8 | `Female`, `Male` |\n",
    "| 07| **Target:** `species` | `string` | 0 | `Adelie`, `Gentoo`, `Chinstrap`|"
   ]
  },
  {
   "cell_type": "markdown",
   "id": "overall-messenger",
   "metadata": {},
   "source": [
    "# Step 4: Data cleaning\n",
    "*Address any missing values in your training set. Include the code in your Jupyter notebook and create a second, cleaned, version of your dataset. Then apply the same procedure to your test set (if you are putting in replacement values use `IMPUTER` in `scikit-learn`).*"
   ]
  },
  {
   "cell_type": "markdown",
   "id": "floppy-brunei",
   "metadata": {},
   "source": [
    "### Missing data"
   ]
  },
  {
   "cell_type": "code",
   "execution_count": 146,
   "id": "swiss-enlargement",
   "metadata": {},
   "outputs": [
    {
     "data": {
      "text/html": [
       "<div>\n",
       "<style scoped>\n",
       "    .dataframe tbody tr th:only-of-type {\n",
       "        vertical-align: middle;\n",
       "    }\n",
       "\n",
       "    .dataframe tbody tr th {\n",
       "        vertical-align: top;\n",
       "    }\n",
       "\n",
       "    .dataframe thead th {\n",
       "        text-align: right;\n",
       "    }\n",
       "</style>\n",
       "<table border=\"1\" class=\"dataframe\">\n",
       "  <thead>\n",
       "    <tr style=\"text-align: right;\">\n",
       "      <th></th>\n",
       "      <th>island</th>\n",
       "      <th>bill_length_mm</th>\n",
       "      <th>bill_depth_mm</th>\n",
       "      <th>flipper_length_mm</th>\n",
       "      <th>body_mass_g</th>\n",
       "      <th>sex</th>\n",
       "    </tr>\n",
       "  </thead>\n",
       "  <tbody>\n",
       "    <tr>\n",
       "      <th>286</th>\n",
       "      <td>Biscoe</td>\n",
       "      <td>46.2</td>\n",
       "      <td>14.4</td>\n",
       "      <td>214.0</td>\n",
       "      <td>4650.0</td>\n",
       "      <td>NaN</td>\n",
       "    </tr>\n",
       "    <tr>\n",
       "      <th>11</th>\n",
       "      <td>Torgersen</td>\n",
       "      <td>37.8</td>\n",
       "      <td>17.3</td>\n",
       "      <td>180.0</td>\n",
       "      <td>3700.0</td>\n",
       "      <td>NaN</td>\n",
       "    </tr>\n",
       "    <tr>\n",
       "      <th>324</th>\n",
       "      <td>Biscoe</td>\n",
       "      <td>47.3</td>\n",
       "      <td>13.8</td>\n",
       "      <td>216.0</td>\n",
       "      <td>4725.0</td>\n",
       "      <td>NaN</td>\n",
       "    </tr>\n",
       "    <tr>\n",
       "      <th>3</th>\n",
       "      <td>Torgersen</td>\n",
       "      <td>NaN</td>\n",
       "      <td>NaN</td>\n",
       "      <td>NaN</td>\n",
       "      <td>NaN</td>\n",
       "      <td>NaN</td>\n",
       "    </tr>\n",
       "    <tr>\n",
       "      <th>8</th>\n",
       "      <td>Torgersen</td>\n",
       "      <td>34.1</td>\n",
       "      <td>18.1</td>\n",
       "      <td>193.0</td>\n",
       "      <td>3475.0</td>\n",
       "      <td>NaN</td>\n",
       "    </tr>\n",
       "    <tr>\n",
       "      <th>10</th>\n",
       "      <td>Torgersen</td>\n",
       "      <td>37.8</td>\n",
       "      <td>17.1</td>\n",
       "      <td>186.0</td>\n",
       "      <td>3300.0</td>\n",
       "      <td>NaN</td>\n",
       "    </tr>\n",
       "    <tr>\n",
       "      <th>336</th>\n",
       "      <td>Biscoe</td>\n",
       "      <td>44.5</td>\n",
       "      <td>15.7</td>\n",
       "      <td>217.0</td>\n",
       "      <td>4875.0</td>\n",
       "      <td>NaN</td>\n",
       "    </tr>\n",
       "    <tr>\n",
       "      <th>246</th>\n",
       "      <td>Biscoe</td>\n",
       "      <td>44.5</td>\n",
       "      <td>14.3</td>\n",
       "      <td>216.0</td>\n",
       "      <td>4100.0</td>\n",
       "      <td>NaN</td>\n",
       "    </tr>\n",
       "  </tbody>\n",
       "</table>\n",
       "</div>"
      ],
      "text/plain": [
       "        island  bill_length_mm  bill_depth_mm  flipper_length_mm  body_mass_g  \\\n",
       "286     Biscoe            46.2           14.4              214.0       4650.0   \n",
       "11   Torgersen            37.8           17.3              180.0       3700.0   \n",
       "324     Biscoe            47.3           13.8              216.0       4725.0   \n",
       "3    Torgersen             NaN            NaN                NaN          NaN   \n",
       "8    Torgersen            34.1           18.1              193.0       3475.0   \n",
       "10   Torgersen            37.8           17.1              186.0       3300.0   \n",
       "336     Biscoe            44.5           15.7              217.0       4875.0   \n",
       "246     Biscoe            44.5           14.3              216.0       4100.0   \n",
       "\n",
       "     sex  \n",
       "286  NaN  \n",
       "11   NaN  \n",
       "324  NaN  \n",
       "3    NaN  \n",
       "8    NaN  \n",
       "10   NaN  \n",
       "336  NaN  \n",
       "246  NaN  "
      ]
     },
     "execution_count": 146,
     "metadata": {},
     "output_type": "execute_result"
    }
   ],
   "source": [
    "# show rows with missing data\n",
    "X_train_null = pd.DataFrame(X_train, columns = X.columns)\n",
    "X_train_null = X_train_null[X_train_null.isnull().any(axis=1)]\n",
    "X_train_null"
   ]
  },
  {
   "cell_type": "markdown",
   "id": "published-kitchen",
   "metadata": {},
   "source": [
    "Result: Only a Torgersen penguin is missing numeric data so just remove that row."
   ]
  },
  {
   "cell_type": "code",
   "execution_count": 147,
   "id": "general-lincoln",
   "metadata": {},
   "outputs": [],
   "source": [
    "# fill in missing values using median calculations\n",
    "#from sklearn.impute import SimpleImputer\n",
    "#X_train_num = X_train.drop([\"island\", \"sex\"], axis=1)\n",
    "#imputer_med = SimpleImputer(missing_values=np.nan, strategy=\"median\")\n",
    "#imputer_med.fit(X_train_num)\n",
    "#SimpleImputer()\n",
    "#X_train_num = imputer_med.transform(X_train_num)\n",
    "#X_train_num = pd.DataFrame(X_train_num, columns=X_train_num.columns)\n",
    "\n",
    "X_train = X_train.dropna(subset=[\"bill_length_mm\"], axis=0)"
   ]
  },
  {
   "cell_type": "code",
   "execution_count": 148,
   "id": "sound-current",
   "metadata": {},
   "outputs": [
    {
     "data": {
      "text/html": [
       "<div>\n",
       "<style scoped>\n",
       "    .dataframe tbody tr th:only-of-type {\n",
       "        vertical-align: middle;\n",
       "    }\n",
       "\n",
       "    .dataframe tbody tr th {\n",
       "        vertical-align: top;\n",
       "    }\n",
       "\n",
       "    .dataframe thead th {\n",
       "        text-align: right;\n",
       "    }\n",
       "</style>\n",
       "<table border=\"1\" class=\"dataframe\">\n",
       "  <thead>\n",
       "    <tr style=\"text-align: right;\">\n",
       "      <th></th>\n",
       "      <th>island</th>\n",
       "      <th>bill_length_mm</th>\n",
       "      <th>bill_depth_mm</th>\n",
       "      <th>flipper_length_mm</th>\n",
       "      <th>body_mass_g</th>\n",
       "      <th>sex</th>\n",
       "    </tr>\n",
       "  </thead>\n",
       "  <tbody>\n",
       "    <tr>\n",
       "      <th>286</th>\n",
       "      <td>Biscoe</td>\n",
       "      <td>46.2</td>\n",
       "      <td>14.4</td>\n",
       "      <td>214.0</td>\n",
       "      <td>4650.0</td>\n",
       "      <td>NaN</td>\n",
       "    </tr>\n",
       "    <tr>\n",
       "      <th>11</th>\n",
       "      <td>Torgersen</td>\n",
       "      <td>37.8</td>\n",
       "      <td>17.3</td>\n",
       "      <td>180.0</td>\n",
       "      <td>3700.0</td>\n",
       "      <td>NaN</td>\n",
       "    </tr>\n",
       "    <tr>\n",
       "      <th>324</th>\n",
       "      <td>Biscoe</td>\n",
       "      <td>47.3</td>\n",
       "      <td>13.8</td>\n",
       "      <td>216.0</td>\n",
       "      <td>4725.0</td>\n",
       "      <td>NaN</td>\n",
       "    </tr>\n",
       "    <tr>\n",
       "      <th>8</th>\n",
       "      <td>Torgersen</td>\n",
       "      <td>34.1</td>\n",
       "      <td>18.1</td>\n",
       "      <td>193.0</td>\n",
       "      <td>3475.0</td>\n",
       "      <td>NaN</td>\n",
       "    </tr>\n",
       "    <tr>\n",
       "      <th>10</th>\n",
       "      <td>Torgersen</td>\n",
       "      <td>37.8</td>\n",
       "      <td>17.1</td>\n",
       "      <td>186.0</td>\n",
       "      <td>3300.0</td>\n",
       "      <td>NaN</td>\n",
       "    </tr>\n",
       "    <tr>\n",
       "      <th>336</th>\n",
       "      <td>Biscoe</td>\n",
       "      <td>44.5</td>\n",
       "      <td>15.7</td>\n",
       "      <td>217.0</td>\n",
       "      <td>4875.0</td>\n",
       "      <td>NaN</td>\n",
       "    </tr>\n",
       "    <tr>\n",
       "      <th>246</th>\n",
       "      <td>Biscoe</td>\n",
       "      <td>44.5</td>\n",
       "      <td>14.3</td>\n",
       "      <td>216.0</td>\n",
       "      <td>4100.0</td>\n",
       "      <td>NaN</td>\n",
       "    </tr>\n",
       "  </tbody>\n",
       "</table>\n",
       "</div>"
      ],
      "text/plain": [
       "        island  bill_length_mm  bill_depth_mm  flipper_length_mm  body_mass_g  \\\n",
       "286     Biscoe            46.2           14.4              214.0       4650.0   \n",
       "11   Torgersen            37.8           17.3              180.0       3700.0   \n",
       "324     Biscoe            47.3           13.8              216.0       4725.0   \n",
       "8    Torgersen            34.1           18.1              193.0       3475.0   \n",
       "10   Torgersen            37.8           17.1              186.0       3300.0   \n",
       "336     Biscoe            44.5           15.7              217.0       4875.0   \n",
       "246     Biscoe            44.5           14.3              216.0       4100.0   \n",
       "\n",
       "     sex  \n",
       "286  NaN  \n",
       "11   NaN  \n",
       "324  NaN  \n",
       "8    NaN  \n",
       "10   NaN  \n",
       "336  NaN  \n",
       "246  NaN  "
      ]
     },
     "execution_count": 148,
     "metadata": {},
     "output_type": "execute_result"
    }
   ],
   "source": [
    "# replay\n",
    "X_train_null = pd.DataFrame(X_train, columns = X.columns)\n",
    "X_train_null = X_train_null[X_train_null.isnull().any(axis=1)]\n",
    "X_train_null"
   ]
  },
  {
   "cell_type": "markdown",
   "id": "identical-camera",
   "metadata": {},
   "source": [
    "Now only the categorical variable `sex` has missing values."
   ]
  },
  {
   "cell_type": "code",
   "execution_count": 149,
   "id": "aerial-thinking",
   "metadata": {},
   "outputs": [
    {
     "data": {
      "text/html": [
       "<div>\n",
       "<style scoped>\n",
       "    .dataframe tbody tr th:only-of-type {\n",
       "        vertical-align: middle;\n",
       "    }\n",
       "\n",
       "    .dataframe tbody tr th {\n",
       "        vertical-align: top;\n",
       "    }\n",
       "\n",
       "    .dataframe thead th {\n",
       "        text-align: right;\n",
       "    }\n",
       "</style>\n",
       "<table border=\"1\" class=\"dataframe\">\n",
       "  <thead>\n",
       "    <tr style=\"text-align: right;\">\n",
       "      <th></th>\n",
       "      <th>island</th>\n",
       "      <th>bill_length_mm</th>\n",
       "      <th>bill_depth_mm</th>\n",
       "      <th>flipper_length_mm</th>\n",
       "      <th>body_mass_g</th>\n",
       "      <th>sex</th>\n",
       "    </tr>\n",
       "  </thead>\n",
       "  <tbody>\n",
       "    <tr>\n",
       "      <th>286</th>\n",
       "      <td>Biscoe</td>\n",
       "      <td>46.2</td>\n",
       "      <td>14.4</td>\n",
       "      <td>214.0</td>\n",
       "      <td>4650.0</td>\n",
       "      <td>Female</td>\n",
       "    </tr>\n",
       "    <tr>\n",
       "      <th>110</th>\n",
       "      <td>Biscoe</td>\n",
       "      <td>38.1</td>\n",
       "      <td>16.5</td>\n",
       "      <td>198.0</td>\n",
       "      <td>3825.0</td>\n",
       "      <td>Female</td>\n",
       "    </tr>\n",
       "    <tr>\n",
       "      <th>63</th>\n",
       "      <td>Biscoe</td>\n",
       "      <td>41.1</td>\n",
       "      <td>18.2</td>\n",
       "      <td>192.0</td>\n",
       "      <td>4050.0</td>\n",
       "      <td>Male</td>\n",
       "    </tr>\n",
       "    <tr>\n",
       "      <th>91</th>\n",
       "      <td>Dream</td>\n",
       "      <td>41.1</td>\n",
       "      <td>18.1</td>\n",
       "      <td>205.0</td>\n",
       "      <td>4300.0</td>\n",
       "      <td>Male</td>\n",
       "    </tr>\n",
       "    <tr>\n",
       "      <th>329</th>\n",
       "      <td>Biscoe</td>\n",
       "      <td>48.1</td>\n",
       "      <td>15.1</td>\n",
       "      <td>209.0</td>\n",
       "      <td>5500.0</td>\n",
       "      <td>Male</td>\n",
       "    </tr>\n",
       "    <tr>\n",
       "      <th>...</th>\n",
       "      <td>...</td>\n",
       "      <td>...</td>\n",
       "      <td>...</td>\n",
       "      <td>...</td>\n",
       "      <td>...</td>\n",
       "      <td>...</td>\n",
       "    </tr>\n",
       "    <tr>\n",
       "      <th>246</th>\n",
       "      <td>Biscoe</td>\n",
       "      <td>44.5</td>\n",
       "      <td>14.3</td>\n",
       "      <td>216.0</td>\n",
       "      <td>4100.0</td>\n",
       "      <td>Female</td>\n",
       "    </tr>\n",
       "    <tr>\n",
       "      <th>320</th>\n",
       "      <td>Biscoe</td>\n",
       "      <td>48.5</td>\n",
       "      <td>15.0</td>\n",
       "      <td>219.0</td>\n",
       "      <td>4850.0</td>\n",
       "      <td>Female</td>\n",
       "    </tr>\n",
       "    <tr>\n",
       "      <th>280</th>\n",
       "      <td>Biscoe</td>\n",
       "      <td>45.3</td>\n",
       "      <td>13.8</td>\n",
       "      <td>208.0</td>\n",
       "      <td>4200.0</td>\n",
       "      <td>Female</td>\n",
       "    </tr>\n",
       "    <tr>\n",
       "      <th>182</th>\n",
       "      <td>Dream</td>\n",
       "      <td>40.9</td>\n",
       "      <td>16.6</td>\n",
       "      <td>187.0</td>\n",
       "      <td>3200.0</td>\n",
       "      <td>Female</td>\n",
       "    </tr>\n",
       "    <tr>\n",
       "      <th>295</th>\n",
       "      <td>Biscoe</td>\n",
       "      <td>48.6</td>\n",
       "      <td>16.0</td>\n",
       "      <td>230.0</td>\n",
       "      <td>5800.0</td>\n",
       "      <td>Male</td>\n",
       "    </tr>\n",
       "  </tbody>\n",
       "</table>\n",
       "<p>257 rows × 6 columns</p>\n",
       "</div>"
      ],
      "text/plain": [
       "     island  bill_length_mm  bill_depth_mm  flipper_length_mm  body_mass_g  \\\n",
       "286  Biscoe            46.2           14.4              214.0       4650.0   \n",
       "110  Biscoe            38.1           16.5              198.0       3825.0   \n",
       "63   Biscoe            41.1           18.2              192.0       4050.0   \n",
       "91    Dream            41.1           18.1              205.0       4300.0   \n",
       "329  Biscoe            48.1           15.1              209.0       5500.0   \n",
       "..      ...             ...            ...                ...          ...   \n",
       "246  Biscoe            44.5           14.3              216.0       4100.0   \n",
       "320  Biscoe            48.5           15.0              219.0       4850.0   \n",
       "280  Biscoe            45.3           13.8              208.0       4200.0   \n",
       "182   Dream            40.9           16.6              187.0       3200.0   \n",
       "295  Biscoe            48.6           16.0              230.0       5800.0   \n",
       "\n",
       "        sex  \n",
       "286  Female  \n",
       "110  Female  \n",
       "63     Male  \n",
       "91     Male  \n",
       "329    Male  \n",
       "..      ...  \n",
       "246  Female  \n",
       "320  Female  \n",
       "280  Female  \n",
       "182  Female  \n",
       "295    Male  \n",
       "\n",
       "[257 rows x 6 columns]"
      ]
     },
     "execution_count": 149,
     "metadata": {},
     "output_type": "execute_result"
    }
   ],
   "source": [
    "# Fill in missing values using most frequent class\n",
    "# source: https://jamesrledoux.com/code/imputation\n",
    "\n",
    "X_train = X_train.apply(lambda X_train: X_train.fillna(X_train.value_counts().index[0]))\n",
    "X_train"
   ]
  },
  {
   "cell_type": "markdown",
   "id": "oriented-policy",
   "metadata": {},
   "source": [
    "### Encoding binary values for `sex` feature"
   ]
  },
  {
   "cell_type": "code",
   "execution_count": 150,
   "id": "atmospheric-packing",
   "metadata": {},
   "outputs": [],
   "source": [
    "from sklearn.preprocessing import LabelEncoder"
   ]
  },
  {
   "cell_type": "code",
   "execution_count": 151,
   "id": "handled-communications",
   "metadata": {},
   "outputs": [
    {
     "data": {
      "text/html": [
       "<div>\n",
       "<style scoped>\n",
       "    .dataframe tbody tr th:only-of-type {\n",
       "        vertical-align: middle;\n",
       "    }\n",
       "\n",
       "    .dataframe tbody tr th {\n",
       "        vertical-align: top;\n",
       "    }\n",
       "\n",
       "    .dataframe thead th {\n",
       "        text-align: right;\n",
       "    }\n",
       "</style>\n",
       "<table border=\"1\" class=\"dataframe\">\n",
       "  <thead>\n",
       "    <tr style=\"text-align: right;\">\n",
       "      <th></th>\n",
       "      <th>island</th>\n",
       "      <th>bill_length_mm</th>\n",
       "      <th>bill_depth_mm</th>\n",
       "      <th>flipper_length_mm</th>\n",
       "      <th>body_mass_g</th>\n",
       "      <th>sex</th>\n",
       "    </tr>\n",
       "  </thead>\n",
       "  <tbody>\n",
       "    <tr>\n",
       "      <th>286</th>\n",
       "      <td>Biscoe</td>\n",
       "      <td>46.2</td>\n",
       "      <td>14.4</td>\n",
       "      <td>214.0</td>\n",
       "      <td>4650.0</td>\n",
       "      <td>0</td>\n",
       "    </tr>\n",
       "    <tr>\n",
       "      <th>110</th>\n",
       "      <td>Biscoe</td>\n",
       "      <td>38.1</td>\n",
       "      <td>16.5</td>\n",
       "      <td>198.0</td>\n",
       "      <td>3825.0</td>\n",
       "      <td>0</td>\n",
       "    </tr>\n",
       "    <tr>\n",
       "      <th>63</th>\n",
       "      <td>Biscoe</td>\n",
       "      <td>41.1</td>\n",
       "      <td>18.2</td>\n",
       "      <td>192.0</td>\n",
       "      <td>4050.0</td>\n",
       "      <td>1</td>\n",
       "    </tr>\n",
       "    <tr>\n",
       "      <th>91</th>\n",
       "      <td>Dream</td>\n",
       "      <td>41.1</td>\n",
       "      <td>18.1</td>\n",
       "      <td>205.0</td>\n",
       "      <td>4300.0</td>\n",
       "      <td>1</td>\n",
       "    </tr>\n",
       "    <tr>\n",
       "      <th>329</th>\n",
       "      <td>Biscoe</td>\n",
       "      <td>48.1</td>\n",
       "      <td>15.1</td>\n",
       "      <td>209.0</td>\n",
       "      <td>5500.0</td>\n",
       "      <td>1</td>\n",
       "    </tr>\n",
       "    <tr>\n",
       "      <th>...</th>\n",
       "      <td>...</td>\n",
       "      <td>...</td>\n",
       "      <td>...</td>\n",
       "      <td>...</td>\n",
       "      <td>...</td>\n",
       "      <td>...</td>\n",
       "    </tr>\n",
       "    <tr>\n",
       "      <th>246</th>\n",
       "      <td>Biscoe</td>\n",
       "      <td>44.5</td>\n",
       "      <td>14.3</td>\n",
       "      <td>216.0</td>\n",
       "      <td>4100.0</td>\n",
       "      <td>0</td>\n",
       "    </tr>\n",
       "    <tr>\n",
       "      <th>320</th>\n",
       "      <td>Biscoe</td>\n",
       "      <td>48.5</td>\n",
       "      <td>15.0</td>\n",
       "      <td>219.0</td>\n",
       "      <td>4850.0</td>\n",
       "      <td>0</td>\n",
       "    </tr>\n",
       "    <tr>\n",
       "      <th>280</th>\n",
       "      <td>Biscoe</td>\n",
       "      <td>45.3</td>\n",
       "      <td>13.8</td>\n",
       "      <td>208.0</td>\n",
       "      <td>4200.0</td>\n",
       "      <td>0</td>\n",
       "    </tr>\n",
       "    <tr>\n",
       "      <th>182</th>\n",
       "      <td>Dream</td>\n",
       "      <td>40.9</td>\n",
       "      <td>16.6</td>\n",
       "      <td>187.0</td>\n",
       "      <td>3200.0</td>\n",
       "      <td>0</td>\n",
       "    </tr>\n",
       "    <tr>\n",
       "      <th>295</th>\n",
       "      <td>Biscoe</td>\n",
       "      <td>48.6</td>\n",
       "      <td>16.0</td>\n",
       "      <td>230.0</td>\n",
       "      <td>5800.0</td>\n",
       "      <td>1</td>\n",
       "    </tr>\n",
       "  </tbody>\n",
       "</table>\n",
       "<p>257 rows × 6 columns</p>\n",
       "</div>"
      ],
      "text/plain": [
       "     island  bill_length_mm  bill_depth_mm  flipper_length_mm  body_mass_g  \\\n",
       "286  Biscoe            46.2           14.4              214.0       4650.0   \n",
       "110  Biscoe            38.1           16.5              198.0       3825.0   \n",
       "63   Biscoe            41.1           18.2              192.0       4050.0   \n",
       "91    Dream            41.1           18.1              205.0       4300.0   \n",
       "329  Biscoe            48.1           15.1              209.0       5500.0   \n",
       "..      ...             ...            ...                ...          ...   \n",
       "246  Biscoe            44.5           14.3              216.0       4100.0   \n",
       "320  Biscoe            48.5           15.0              219.0       4850.0   \n",
       "280  Biscoe            45.3           13.8              208.0       4200.0   \n",
       "182   Dream            40.9           16.6              187.0       3200.0   \n",
       "295  Biscoe            48.6           16.0              230.0       5800.0   \n",
       "\n",
       "     sex  \n",
       "286    0  \n",
       "110    0  \n",
       "63     1  \n",
       "91     1  \n",
       "329    1  \n",
       "..   ...  \n",
       "246    0  \n",
       "320    0  \n",
       "280    0  \n",
       "182    0  \n",
       "295    1  \n",
       "\n",
       "[257 rows x 6 columns]"
      ]
     },
     "execution_count": 151,
     "metadata": {},
     "output_type": "execute_result"
    }
   ],
   "source": [
    "le = LabelEncoder()\n",
    "X_train[\"sex\"] = le.fit_transform(X_train[\"sex\"])\n",
    "X_train # 0 = F, 1 = M"
   ]
  },
  {
   "cell_type": "markdown",
   "id": "increasing-nashville",
   "metadata": {},
   "source": [
    "### One-hot encoding"
   ]
  },
  {
   "cell_type": "code",
   "execution_count": 153,
   "id": "administrative-investing",
   "metadata": {},
   "outputs": [
    {
     "data": {
      "text/html": [
       "<div>\n",
       "<style scoped>\n",
       "    .dataframe tbody tr th:only-of-type {\n",
       "        vertical-align: middle;\n",
       "    }\n",
       "\n",
       "    .dataframe tbody tr th {\n",
       "        vertical-align: top;\n",
       "    }\n",
       "\n",
       "    .dataframe thead th {\n",
       "        text-align: right;\n",
       "    }\n",
       "</style>\n",
       "<table border=\"1\" class=\"dataframe\">\n",
       "  <thead>\n",
       "    <tr style=\"text-align: right;\">\n",
       "      <th></th>\n",
       "      <th>bill_length_mm</th>\n",
       "      <th>bill_depth_mm</th>\n",
       "      <th>flipper_length_mm</th>\n",
       "      <th>body_mass_g</th>\n",
       "      <th>sex</th>\n",
       "      <th>island_Biscoe</th>\n",
       "      <th>island_Dream</th>\n",
       "      <th>island_Torgersen</th>\n",
       "    </tr>\n",
       "  </thead>\n",
       "  <tbody>\n",
       "    <tr>\n",
       "      <th>286</th>\n",
       "      <td>46.2</td>\n",
       "      <td>14.4</td>\n",
       "      <td>214.0</td>\n",
       "      <td>4650.0</td>\n",
       "      <td>0</td>\n",
       "      <td>1</td>\n",
       "      <td>0</td>\n",
       "      <td>0</td>\n",
       "    </tr>\n",
       "    <tr>\n",
       "      <th>110</th>\n",
       "      <td>38.1</td>\n",
       "      <td>16.5</td>\n",
       "      <td>198.0</td>\n",
       "      <td>3825.0</td>\n",
       "      <td>0</td>\n",
       "      <td>1</td>\n",
       "      <td>0</td>\n",
       "      <td>0</td>\n",
       "    </tr>\n",
       "    <tr>\n",
       "      <th>63</th>\n",
       "      <td>41.1</td>\n",
       "      <td>18.2</td>\n",
       "      <td>192.0</td>\n",
       "      <td>4050.0</td>\n",
       "      <td>1</td>\n",
       "      <td>1</td>\n",
       "      <td>0</td>\n",
       "      <td>0</td>\n",
       "    </tr>\n",
       "    <tr>\n",
       "      <th>91</th>\n",
       "      <td>41.1</td>\n",
       "      <td>18.1</td>\n",
       "      <td>205.0</td>\n",
       "      <td>4300.0</td>\n",
       "      <td>1</td>\n",
       "      <td>0</td>\n",
       "      <td>1</td>\n",
       "      <td>0</td>\n",
       "    </tr>\n",
       "    <tr>\n",
       "      <th>329</th>\n",
       "      <td>48.1</td>\n",
       "      <td>15.1</td>\n",
       "      <td>209.0</td>\n",
       "      <td>5500.0</td>\n",
       "      <td>1</td>\n",
       "      <td>1</td>\n",
       "      <td>0</td>\n",
       "      <td>0</td>\n",
       "    </tr>\n",
       "    <tr>\n",
       "      <th>...</th>\n",
       "      <td>...</td>\n",
       "      <td>...</td>\n",
       "      <td>...</td>\n",
       "      <td>...</td>\n",
       "      <td>...</td>\n",
       "      <td>...</td>\n",
       "      <td>...</td>\n",
       "      <td>...</td>\n",
       "    </tr>\n",
       "    <tr>\n",
       "      <th>246</th>\n",
       "      <td>44.5</td>\n",
       "      <td>14.3</td>\n",
       "      <td>216.0</td>\n",
       "      <td>4100.0</td>\n",
       "      <td>0</td>\n",
       "      <td>1</td>\n",
       "      <td>0</td>\n",
       "      <td>0</td>\n",
       "    </tr>\n",
       "    <tr>\n",
       "      <th>320</th>\n",
       "      <td>48.5</td>\n",
       "      <td>15.0</td>\n",
       "      <td>219.0</td>\n",
       "      <td>4850.0</td>\n",
       "      <td>0</td>\n",
       "      <td>1</td>\n",
       "      <td>0</td>\n",
       "      <td>0</td>\n",
       "    </tr>\n",
       "    <tr>\n",
       "      <th>280</th>\n",
       "      <td>45.3</td>\n",
       "      <td>13.8</td>\n",
       "      <td>208.0</td>\n",
       "      <td>4200.0</td>\n",
       "      <td>0</td>\n",
       "      <td>1</td>\n",
       "      <td>0</td>\n",
       "      <td>0</td>\n",
       "    </tr>\n",
       "    <tr>\n",
       "      <th>182</th>\n",
       "      <td>40.9</td>\n",
       "      <td>16.6</td>\n",
       "      <td>187.0</td>\n",
       "      <td>3200.0</td>\n",
       "      <td>0</td>\n",
       "      <td>0</td>\n",
       "      <td>1</td>\n",
       "      <td>0</td>\n",
       "    </tr>\n",
       "    <tr>\n",
       "      <th>295</th>\n",
       "      <td>48.6</td>\n",
       "      <td>16.0</td>\n",
       "      <td>230.0</td>\n",
       "      <td>5800.0</td>\n",
       "      <td>1</td>\n",
       "      <td>1</td>\n",
       "      <td>0</td>\n",
       "      <td>0</td>\n",
       "    </tr>\n",
       "  </tbody>\n",
       "</table>\n",
       "<p>257 rows × 8 columns</p>\n",
       "</div>"
      ],
      "text/plain": [
       "     bill_length_mm  bill_depth_mm  flipper_length_mm  body_mass_g  sex  \\\n",
       "286            46.2           14.4              214.0       4650.0    0   \n",
       "110            38.1           16.5              198.0       3825.0    0   \n",
       "63             41.1           18.2              192.0       4050.0    1   \n",
       "91             41.1           18.1              205.0       4300.0    1   \n",
       "329            48.1           15.1              209.0       5500.0    1   \n",
       "..              ...            ...                ...          ...  ...   \n",
       "246            44.5           14.3              216.0       4100.0    0   \n",
       "320            48.5           15.0              219.0       4850.0    0   \n",
       "280            45.3           13.8              208.0       4200.0    0   \n",
       "182            40.9           16.6              187.0       3200.0    0   \n",
       "295            48.6           16.0              230.0       5800.0    1   \n",
       "\n",
       "     island_Biscoe  island_Dream  island_Torgersen  \n",
       "286              1             0                 0  \n",
       "110              1             0                 0  \n",
       "63               1             0                 0  \n",
       "91               0             1                 0  \n",
       "329              1             0                 0  \n",
       "..             ...           ...               ...  \n",
       "246              1             0                 0  \n",
       "320              1             0                 0  \n",
       "280              1             0                 0  \n",
       "182              0             1                 0  \n",
       "295              1             0                 0  \n",
       "\n",
       "[257 rows x 8 columns]"
      ]
     },
     "execution_count": 153,
     "metadata": {},
     "output_type": "execute_result"
    }
   ],
   "source": [
    "# for island feature\n",
    "X_train_enc = pd.get_dummies(X_train)\n",
    "X_train_enc"
   ]
  },
  {
   "cell_type": "code",
   "execution_count": 155,
   "id": "fatal-proportion",
   "metadata": {},
   "outputs": [
    {
     "data": {
      "text/html": [
       "<div>\n",
       "<style scoped>\n",
       "    .dataframe tbody tr th:only-of-type {\n",
       "        vertical-align: middle;\n",
       "    }\n",
       "\n",
       "    .dataframe tbody tr th {\n",
       "        vertical-align: top;\n",
       "    }\n",
       "\n",
       "    .dataframe thead th {\n",
       "        text-align: right;\n",
       "    }\n",
       "</style>\n",
       "<table border=\"1\" class=\"dataframe\">\n",
       "  <thead>\n",
       "    <tr style=\"text-align: right;\">\n",
       "      <th></th>\n",
       "      <th>Adelie</th>\n",
       "      <th>Chinstrap</th>\n",
       "      <th>Gentoo</th>\n",
       "    </tr>\n",
       "  </thead>\n",
       "  <tbody>\n",
       "    <tr>\n",
       "      <th>286</th>\n",
       "      <td>0</td>\n",
       "      <td>0</td>\n",
       "      <td>1</td>\n",
       "    </tr>\n",
       "    <tr>\n",
       "      <th>110</th>\n",
       "      <td>1</td>\n",
       "      <td>0</td>\n",
       "      <td>0</td>\n",
       "    </tr>\n",
       "    <tr>\n",
       "      <th>63</th>\n",
       "      <td>1</td>\n",
       "      <td>0</td>\n",
       "      <td>0</td>\n",
       "    </tr>\n",
       "    <tr>\n",
       "      <th>91</th>\n",
       "      <td>1</td>\n",
       "      <td>0</td>\n",
       "      <td>0</td>\n",
       "    </tr>\n",
       "    <tr>\n",
       "      <th>329</th>\n",
       "      <td>0</td>\n",
       "      <td>0</td>\n",
       "      <td>1</td>\n",
       "    </tr>\n",
       "    <tr>\n",
       "      <th>...</th>\n",
       "      <td>...</td>\n",
       "      <td>...</td>\n",
       "      <td>...</td>\n",
       "    </tr>\n",
       "    <tr>\n",
       "      <th>246</th>\n",
       "      <td>0</td>\n",
       "      <td>0</td>\n",
       "      <td>1</td>\n",
       "    </tr>\n",
       "    <tr>\n",
       "      <th>320</th>\n",
       "      <td>0</td>\n",
       "      <td>0</td>\n",
       "      <td>1</td>\n",
       "    </tr>\n",
       "    <tr>\n",
       "      <th>280</th>\n",
       "      <td>0</td>\n",
       "      <td>0</td>\n",
       "      <td>1</td>\n",
       "    </tr>\n",
       "    <tr>\n",
       "      <th>182</th>\n",
       "      <td>0</td>\n",
       "      <td>1</td>\n",
       "      <td>0</td>\n",
       "    </tr>\n",
       "    <tr>\n",
       "      <th>295</th>\n",
       "      <td>0</td>\n",
       "      <td>0</td>\n",
       "      <td>1</td>\n",
       "    </tr>\n",
       "  </tbody>\n",
       "</table>\n",
       "<p>258 rows × 3 columns</p>\n",
       "</div>"
      ],
      "text/plain": [
       "     Adelie  Chinstrap  Gentoo\n",
       "286       0          0       1\n",
       "110       1          0       0\n",
       "63        1          0       0\n",
       "91        1          0       0\n",
       "329       0          0       1\n",
       "..      ...        ...     ...\n",
       "246       0          0       1\n",
       "320       0          0       1\n",
       "280       0          0       1\n",
       "182       0          1       0\n",
       "295       0          0       1\n",
       "\n",
       "[258 rows x 3 columns]"
      ]
     },
     "execution_count": 155,
     "metadata": {},
     "output_type": "execute_result"
    }
   ],
   "source": [
    "# for target feature (species)\n",
    "y_train_enc = pd.get_dummies(y_train)\n",
    "y_train_enc"
   ]
  },
  {
   "cell_type": "markdown",
   "id": "black-saturday",
   "metadata": {},
   "source": [
    "# Step 5: Visualize the data in your training set"
   ]
  },
  {
   "cell_type": "code",
   "execution_count": 90,
   "id": "directed-inspiration",
   "metadata": {},
   "outputs": [],
   "source": [
    "import matplotlib.pyplot as plt\n",
    "from pandas.plotting import scatter_matrix"
   ]
  },
  {
   "cell_type": "code",
   "execution_count": 96,
   "id": "conscious-cartoon",
   "metadata": {},
   "outputs": [
    {
     "data": {
      "image/png": "[encoded data removed]",
      "text/plain": [
       "<Figure size 1440x1080 with 4 Axes>"
      ]
     },
     "metadata": {
      "needs_background": "light"
     },
     "output_type": "display_data"
    }
   ],
   "source": [
    "training = pd.concat([X_train, y_train], axis=1)\n",
    "training.hist(bins=25, figsize=(20,15))\n",
    "plt.show()"
   ]
  },
  {
   "cell_type": "code",
   "execution_count": null,
   "id": "solved-category",
   "metadata": {},
   "outputs": [],
   "source": [
    "attributes = [\"MEDV\", \"LSTAT\", \"RM\", \"AGE\"]\n",
    "scatter_matrix(boston_pd[attributes], figsize = (12,8))"
   ]
  },
  {
   "cell_type": "code",
   "execution_count": 17,
   "id": "sufficient-modeling",
   "metadata": {},
   "outputs": [
    {
     "data": {
      "text/plain": [
       "Sometimes     1401\n",
       "no             639\n",
       "Frequently      70\n",
       "Always           1\n",
       "Name: CALC, dtype: int64"
      ]
     },
     "execution_count": 17,
     "metadata": {},
     "output_type": "execute_result"
    }
   ],
   "source": [
    "corr_matrix = X_train.corr()\n",
    "corr_matrix[\"MEDV\"].sort_values(ascending = False)"
   ]
  },
  {
   "cell_type": "markdown",
   "id": "genetic-garbage",
   "metadata": {},
   "source": [
    "# Step 6: Apply transformations to your data. \n",
    "In your Jupyter notebook apply, squaring (\\*\\*2), cubing (\\*\\*\\*3), logarithmic (`np.log`), and exponentials (`np.exp`) transformations to two features in your dataset. Plot the histograms and scatter matrices of the resultant data."
   ]
  },
  {
   "cell_type": "code",
   "execution_count": null,
   "id": "opposed-thousand",
   "metadata": {},
   "outputs": [],
   "source": []
  }
 ],
 "metadata": {
  "kernelspec": {
   "display_name": "Python 3",
   "language": "python",
   "name": "python3"
  },
  "language_info": {
   "codemirror_mode": {
    "name": "ipython",
    "version": 3
   },
   "file_extension": ".py",
   "mimetype": "text/x-python",
   "name": "python",
   "nbconvert_exporter": "python",
   "pygments_lexer": "ipython3",
   "version": "3.8.2"
  }
 },
 "nbformat": 4,
 "nbformat_minor": 5
}
