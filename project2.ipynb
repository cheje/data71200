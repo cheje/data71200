{
 "cells": [
  {
   "cell_type": "markdown",
   "id": "96d667d2",
   "metadata": {},
   "source": [
    "# Project 2\n",
    "\n",
    "Jennifer Cheng  \n",
    "DATA71200: Summer 2021  \n",
    "June 21, 2021  \n",
    "\n",
    "-----\n",
    "\n",
    "- **Assignment**: Apply different types of supervised learning algorithms with a range of parameter settings to your data and to observe which performs better."
   ]
  },
  {
   "cell_type": "code",
   "execution_count": 814,
   "id": "d9349f06",
   "metadata": {},
   "outputs": [],
   "source": [
    "import numpy as np\n",
    "import pandas as pd\n",
    "import seaborn as sns # for dataset"
   ]
  },
  {
   "cell_type": "markdown",
   "id": "fb12acea",
   "metadata": {},
   "source": [
    "## Step 1: Load your data, including testing/training split from Project 1"
   ]
  },
  {
   "cell_type": "markdown",
   "id": "0de168f6",
   "metadata": {},
   "source": [
    "### Your testing and training split should be balanced"
   ]
  },
  {
   "cell_type": "code",
   "execution_count": 815,
   "id": "14940ab8",
   "metadata": {},
   "outputs": [
    {
     "data": {
      "text/html": [
       "<div>\n",
       "<style scoped>\n",
       "    .dataframe tbody tr th:only-of-type {\n",
       "        vertical-align: middle;\n",
       "    }\n",
       "\n",
       "    .dataframe tbody tr th {\n",
       "        vertical-align: top;\n",
       "    }\n",
       "\n",
       "    .dataframe thead th {\n",
       "        text-align: right;\n",
       "    }\n",
       "</style>\n",
       "<table border=\"1\" class=\"dataframe\">\n",
       "  <thead>\n",
       "    <tr style=\"text-align: right;\">\n",
       "      <th></th>\n",
       "      <th>species</th>\n",
       "      <th>island</th>\n",
       "      <th>bill_length_mm</th>\n",
       "      <th>bill_depth_mm</th>\n",
       "      <th>flipper_length_mm</th>\n",
       "      <th>body_mass_g</th>\n",
       "      <th>sex</th>\n",
       "    </tr>\n",
       "  </thead>\n",
       "  <tbody>\n",
       "    <tr>\n",
       "      <th>0</th>\n",
       "      <td>Adelie</td>\n",
       "      <td>Torgersen</td>\n",
       "      <td>39.1</td>\n",
       "      <td>18.7</td>\n",
       "      <td>181.0</td>\n",
       "      <td>3750.0</td>\n",
       "      <td>Male</td>\n",
       "    </tr>\n",
       "    <tr>\n",
       "      <th>1</th>\n",
       "      <td>Adelie</td>\n",
       "      <td>Torgersen</td>\n",
       "      <td>39.5</td>\n",
       "      <td>17.4</td>\n",
       "      <td>186.0</td>\n",
       "      <td>3800.0</td>\n",
       "      <td>Female</td>\n",
       "    </tr>\n",
       "    <tr>\n",
       "      <th>2</th>\n",
       "      <td>Adelie</td>\n",
       "      <td>Torgersen</td>\n",
       "      <td>40.3</td>\n",
       "      <td>18.0</td>\n",
       "      <td>195.0</td>\n",
       "      <td>3250.0</td>\n",
       "      <td>Female</td>\n",
       "    </tr>\n",
       "    <tr>\n",
       "      <th>3</th>\n",
       "      <td>Adelie</td>\n",
       "      <td>Torgersen</td>\n",
       "      <td>NaN</td>\n",
       "      <td>NaN</td>\n",
       "      <td>NaN</td>\n",
       "      <td>NaN</td>\n",
       "      <td>NaN</td>\n",
       "    </tr>\n",
       "    <tr>\n",
       "      <th>4</th>\n",
       "      <td>Adelie</td>\n",
       "      <td>Torgersen</td>\n",
       "      <td>36.7</td>\n",
       "      <td>19.3</td>\n",
       "      <td>193.0</td>\n",
       "      <td>3450.0</td>\n",
       "      <td>Female</td>\n",
       "    </tr>\n",
       "  </tbody>\n",
       "</table>\n",
       "</div>"
      ],
      "text/plain": [
       "  species     island  bill_length_mm  bill_depth_mm  flipper_length_mm  \\\n",
       "0  Adelie  Torgersen            39.1           18.7              181.0   \n",
       "1  Adelie  Torgersen            39.5           17.4              186.0   \n",
       "2  Adelie  Torgersen            40.3           18.0              195.0   \n",
       "3  Adelie  Torgersen             NaN            NaN                NaN   \n",
       "4  Adelie  Torgersen            36.7           19.3              193.0   \n",
       "\n",
       "   body_mass_g     sex  \n",
       "0       3750.0    Male  \n",
       "1       3800.0  Female  \n",
       "2       3250.0  Female  \n",
       "3          NaN     NaN  \n",
       "4       3450.0  Female  "
      ]
     },
     "execution_count": 815,
     "metadata": {},
     "output_type": "execute_result"
    }
   ],
   "source": [
    "penguins_raw = sns.load_dataset(\"penguins\") \n",
    "penguins_raw.head()"
   ]
  },
  {
   "cell_type": "code",
   "execution_count": 816,
   "id": "2b5e3cf0",
   "metadata": {},
   "outputs": [],
   "source": [
    "from sklearn.model_selection import train_test_split"
   ]
  },
  {
   "cell_type": "code",
   "execution_count": 817,
   "id": "6a3d5e7f",
   "metadata": {},
   "outputs": [],
   "source": [
    "# drop target variable and variable not being used (categorical)\n",
    "X = penguins_raw.drop([\"species\"], axis=1)\n",
    "\n",
    "# target variable\n",
    "y = penguins_raw[\"species\"]\n",
    "\n",
    "# split data and labels into a training and a test set without stratifying\n",
    "X_train, X_test, y_train, y_test = train_test_split(X, y, stratify=y, random_state=0) "
   ]
  },
  {
   "cell_type": "code",
   "execution_count": 818,
   "id": "68bbba3d",
   "metadata": {},
   "outputs": [
    {
     "name": "stdout",
     "output_type": "stream",
     "text": [
      "X_train shape (rows, columns): (258, 6)\n",
      "y_train shape: (258,)\n",
      "X_test shape: (86, 6)\n",
      "y_test shape: (86,)\n"
     ]
    }
   ],
   "source": [
    "# Training data (75%) dimensions \n",
    "print(\"X_train shape (rows, columns):\", X_train.shape)\n",
    "print(\"y_train shape:\", y_train.shape)\n",
    "# Testing data (25%) dimensions \n",
    "print(\"X_test shape:\", X_test.shape)\n",
    "print(\"y_test shape:\", y_test.shape)"
   ]
  },
  {
   "cell_type": "code",
   "execution_count": 819,
   "id": "14bd64b3",
   "metadata": {},
   "outputs": [
    {
     "data": {
      "text/plain": [
       "Adelie       44.186047\n",
       "Gentoo       36.046512\n",
       "Chinstrap    19.767442\n",
       "Name: species, dtype: float64"
      ]
     },
     "execution_count": 819,
     "metadata": {},
     "output_type": "execute_result"
    }
   ],
   "source": [
    "# Are testing and training sets are balanced in terms of target classes?\n",
    "y_train.value_counts(normalize=True) * 100"
   ]
  },
  {
   "cell_type": "code",
   "execution_count": 820,
   "id": "5d1cd019",
   "metadata": {},
   "outputs": [
    {
     "data": {
      "text/plain": [
       "Adelie       44.186047\n",
       "Gentoo       36.046512\n",
       "Chinstrap    19.767442\n",
       "Name: species, dtype: float64"
      ]
     },
     "execution_count": 820,
     "metadata": {},
     "output_type": "execute_result"
    }
   ],
   "source": [
    "y_test.value_counts(normalize=True) * 100"
   ]
  },
  {
   "cell_type": "markdown",
   "id": "0140b7aa",
   "metadata": {},
   "source": [
    "### Your data should be clean and missing data should be addressed"
   ]
  },
  {
   "cell_type": "markdown",
   "id": "cb42f6de",
   "metadata": {},
   "source": [
    "**Missing data: training set**"
   ]
  },
  {
   "cell_type": "code",
   "execution_count": 821,
   "id": "ac34ce6e",
   "metadata": {},
   "outputs": [
    {
     "data": {
      "text/plain": [
       "island               0\n",
       "bill_length_mm       1\n",
       "bill_depth_mm        1\n",
       "flipper_length_mm    1\n",
       "body_mass_g          1\n",
       "sex                  8\n",
       "dtype: int64"
      ]
     },
     "execution_count": 821,
     "metadata": {},
     "output_type": "execute_result"
    }
   ],
   "source": [
    "# training features: number of missing values per variable\n",
    "X_train.isnull().sum()"
   ]
  },
  {
   "cell_type": "markdown",
   "id": "1f6e848e",
   "metadata": {},
   "source": [
    "Results: Features training set has missing values. What are they?"
   ]
  },
  {
   "cell_type": "code",
   "execution_count": 822,
   "id": "075c2765",
   "metadata": {
    "scrolled": true
   },
   "outputs": [
    {
     "data": {
      "text/html": [
       "<div>\n",
       "<style scoped>\n",
       "    .dataframe tbody tr th:only-of-type {\n",
       "        vertical-align: middle;\n",
       "    }\n",
       "\n",
       "    .dataframe tbody tr th {\n",
       "        vertical-align: top;\n",
       "    }\n",
       "\n",
       "    .dataframe thead th {\n",
       "        text-align: right;\n",
       "    }\n",
       "</style>\n",
       "<table border=\"1\" class=\"dataframe\">\n",
       "  <thead>\n",
       "    <tr style=\"text-align: right;\">\n",
       "      <th></th>\n",
       "      <th>island</th>\n",
       "      <th>bill_length_mm</th>\n",
       "      <th>bill_depth_mm</th>\n",
       "      <th>flipper_length_mm</th>\n",
       "      <th>body_mass_g</th>\n",
       "      <th>sex</th>\n",
       "    </tr>\n",
       "  </thead>\n",
       "  <tbody>\n",
       "    <tr>\n",
       "      <th>286</th>\n",
       "      <td>Biscoe</td>\n",
       "      <td>46.2</td>\n",
       "      <td>14.4</td>\n",
       "      <td>214.0</td>\n",
       "      <td>4650.0</td>\n",
       "      <td>NaN</td>\n",
       "    </tr>\n",
       "    <tr>\n",
       "      <th>11</th>\n",
       "      <td>Torgersen</td>\n",
       "      <td>37.8</td>\n",
       "      <td>17.3</td>\n",
       "      <td>180.0</td>\n",
       "      <td>3700.0</td>\n",
       "      <td>NaN</td>\n",
       "    </tr>\n",
       "    <tr>\n",
       "      <th>324</th>\n",
       "      <td>Biscoe</td>\n",
       "      <td>47.3</td>\n",
       "      <td>13.8</td>\n",
       "      <td>216.0</td>\n",
       "      <td>4725.0</td>\n",
       "      <td>NaN</td>\n",
       "    </tr>\n",
       "    <tr>\n",
       "      <th>3</th>\n",
       "      <td>Torgersen</td>\n",
       "      <td>NaN</td>\n",
       "      <td>NaN</td>\n",
       "      <td>NaN</td>\n",
       "      <td>NaN</td>\n",
       "      <td>NaN</td>\n",
       "    </tr>\n",
       "    <tr>\n",
       "      <th>8</th>\n",
       "      <td>Torgersen</td>\n",
       "      <td>34.1</td>\n",
       "      <td>18.1</td>\n",
       "      <td>193.0</td>\n",
       "      <td>3475.0</td>\n",
       "      <td>NaN</td>\n",
       "    </tr>\n",
       "    <tr>\n",
       "      <th>10</th>\n",
       "      <td>Torgersen</td>\n",
       "      <td>37.8</td>\n",
       "      <td>17.1</td>\n",
       "      <td>186.0</td>\n",
       "      <td>3300.0</td>\n",
       "      <td>NaN</td>\n",
       "    </tr>\n",
       "    <tr>\n",
       "      <th>336</th>\n",
       "      <td>Biscoe</td>\n",
       "      <td>44.5</td>\n",
       "      <td>15.7</td>\n",
       "      <td>217.0</td>\n",
       "      <td>4875.0</td>\n",
       "      <td>NaN</td>\n",
       "    </tr>\n",
       "    <tr>\n",
       "      <th>246</th>\n",
       "      <td>Biscoe</td>\n",
       "      <td>44.5</td>\n",
       "      <td>14.3</td>\n",
       "      <td>216.0</td>\n",
       "      <td>4100.0</td>\n",
       "      <td>NaN</td>\n",
       "    </tr>\n",
       "  </tbody>\n",
       "</table>\n",
       "</div>"
      ],
      "text/plain": [
       "        island  bill_length_mm  bill_depth_mm  flipper_length_mm  body_mass_g  \\\n",
       "286     Biscoe            46.2           14.4              214.0       4650.0   \n",
       "11   Torgersen            37.8           17.3              180.0       3700.0   \n",
       "324     Biscoe            47.3           13.8              216.0       4725.0   \n",
       "3    Torgersen             NaN            NaN                NaN          NaN   \n",
       "8    Torgersen            34.1           18.1              193.0       3475.0   \n",
       "10   Torgersen            37.8           17.1              186.0       3300.0   \n",
       "336     Biscoe            44.5           15.7              217.0       4875.0   \n",
       "246     Biscoe            44.5           14.3              216.0       4100.0   \n",
       "\n",
       "     sex  \n",
       "286  NaN  \n",
       "11   NaN  \n",
       "324  NaN  \n",
       "3    NaN  \n",
       "8    NaN  \n",
       "10   NaN  \n",
       "336  NaN  \n",
       "246  NaN  "
      ]
     },
     "execution_count": 822,
     "metadata": {},
     "output_type": "execute_result"
    }
   ],
   "source": [
    "# show rows with missing data\n",
    "X_train_null = pd.DataFrame(X_train, columns = X.columns)\n",
    "X_train_null = X_train_null[X_train_null.isnull().any(axis=1)]\n",
    "X_train_null"
   ]
  },
  {
   "cell_type": "markdown",
   "id": "6febf1e6",
   "metadata": {},
   "source": [
    "Result: Only a Torgersen penguin (row 3) is missing numeric data so just remove that row."
   ]
  },
  {
   "cell_type": "code",
   "execution_count": 823,
   "id": "4ff34b26",
   "metadata": {},
   "outputs": [
    {
     "data": {
      "text/html": [
       "<div>\n",
       "<style scoped>\n",
       "    .dataframe tbody tr th:only-of-type {\n",
       "        vertical-align: middle;\n",
       "    }\n",
       "\n",
       "    .dataframe tbody tr th {\n",
       "        vertical-align: top;\n",
       "    }\n",
       "\n",
       "    .dataframe thead th {\n",
       "        text-align: right;\n",
       "    }\n",
       "</style>\n",
       "<table border=\"1\" class=\"dataframe\">\n",
       "  <thead>\n",
       "    <tr style=\"text-align: right;\">\n",
       "      <th></th>\n",
       "      <th>island</th>\n",
       "      <th>bill_length_mm</th>\n",
       "      <th>bill_depth_mm</th>\n",
       "      <th>flipper_length_mm</th>\n",
       "      <th>body_mass_g</th>\n",
       "      <th>sex</th>\n",
       "    </tr>\n",
       "  </thead>\n",
       "  <tbody>\n",
       "    <tr>\n",
       "      <th>286</th>\n",
       "      <td>Biscoe</td>\n",
       "      <td>46.2</td>\n",
       "      <td>14.4</td>\n",
       "      <td>214.0</td>\n",
       "      <td>4650.0</td>\n",
       "      <td>NaN</td>\n",
       "    </tr>\n",
       "    <tr>\n",
       "      <th>11</th>\n",
       "      <td>Torgersen</td>\n",
       "      <td>37.8</td>\n",
       "      <td>17.3</td>\n",
       "      <td>180.0</td>\n",
       "      <td>3700.0</td>\n",
       "      <td>NaN</td>\n",
       "    </tr>\n",
       "    <tr>\n",
       "      <th>324</th>\n",
       "      <td>Biscoe</td>\n",
       "      <td>47.3</td>\n",
       "      <td>13.8</td>\n",
       "      <td>216.0</td>\n",
       "      <td>4725.0</td>\n",
       "      <td>NaN</td>\n",
       "    </tr>\n",
       "    <tr>\n",
       "      <th>8</th>\n",
       "      <td>Torgersen</td>\n",
       "      <td>34.1</td>\n",
       "      <td>18.1</td>\n",
       "      <td>193.0</td>\n",
       "      <td>3475.0</td>\n",
       "      <td>NaN</td>\n",
       "    </tr>\n",
       "    <tr>\n",
       "      <th>10</th>\n",
       "      <td>Torgersen</td>\n",
       "      <td>37.8</td>\n",
       "      <td>17.1</td>\n",
       "      <td>186.0</td>\n",
       "      <td>3300.0</td>\n",
       "      <td>NaN</td>\n",
       "    </tr>\n",
       "    <tr>\n",
       "      <th>336</th>\n",
       "      <td>Biscoe</td>\n",
       "      <td>44.5</td>\n",
       "      <td>15.7</td>\n",
       "      <td>217.0</td>\n",
       "      <td>4875.0</td>\n",
       "      <td>NaN</td>\n",
       "    </tr>\n",
       "    <tr>\n",
       "      <th>246</th>\n",
       "      <td>Biscoe</td>\n",
       "      <td>44.5</td>\n",
       "      <td>14.3</td>\n",
       "      <td>216.0</td>\n",
       "      <td>4100.0</td>\n",
       "      <td>NaN</td>\n",
       "    </tr>\n",
       "  </tbody>\n",
       "</table>\n",
       "</div>"
      ],
      "text/plain": [
       "        island  bill_length_mm  bill_depth_mm  flipper_length_mm  body_mass_g  \\\n",
       "286     Biscoe            46.2           14.4              214.0       4650.0   \n",
       "11   Torgersen            37.8           17.3              180.0       3700.0   \n",
       "324     Biscoe            47.3           13.8              216.0       4725.0   \n",
       "8    Torgersen            34.1           18.1              193.0       3475.0   \n",
       "10   Torgersen            37.8           17.1              186.0       3300.0   \n",
       "336     Biscoe            44.5           15.7              217.0       4875.0   \n",
       "246     Biscoe            44.5           14.3              216.0       4100.0   \n",
       "\n",
       "     sex  \n",
       "286  NaN  \n",
       "11   NaN  \n",
       "324  NaN  \n",
       "8    NaN  \n",
       "10   NaN  \n",
       "336  NaN  \n",
       "246  NaN  "
      ]
     },
     "execution_count": 823,
     "metadata": {},
     "output_type": "execute_result"
    }
   ],
   "source": [
    "# drop row with missing values\n",
    "X_train_final = X_train.dropna(subset=[\"bill_length_mm\"], axis=0)\n",
    "\n",
    "# replay\n",
    "X_train_null = pd.DataFrame(X_train_final, columns = X.columns)\n",
    "X_train_null = X_train_null[X_train_null.isnull().any(axis=1)]\n",
    "X_train_null"
   ]
  },
  {
   "cell_type": "markdown",
   "id": "ee9395c8",
   "metadata": {},
   "source": [
    "Result: Now only the categorical variable of `sex` has missing values. Fill in missing values using most frequent class/label ([source](https://jamesrledoux.com/code/imputation))."
   ]
  },
  {
   "cell_type": "code",
   "execution_count": 824,
   "id": "5b278eca",
   "metadata": {
    "scrolled": true
   },
   "outputs": [
    {
     "data": {
      "text/html": [
       "<div>\n",
       "<style scoped>\n",
       "    .dataframe tbody tr th:only-of-type {\n",
       "        vertical-align: middle;\n",
       "    }\n",
       "\n",
       "    .dataframe tbody tr th {\n",
       "        vertical-align: top;\n",
       "    }\n",
       "\n",
       "    .dataframe thead th {\n",
       "        text-align: right;\n",
       "    }\n",
       "</style>\n",
       "<table border=\"1\" class=\"dataframe\">\n",
       "  <thead>\n",
       "    <tr style=\"text-align: right;\">\n",
       "      <th></th>\n",
       "      <th>island</th>\n",
       "      <th>bill_length_mm</th>\n",
       "      <th>bill_depth_mm</th>\n",
       "      <th>flipper_length_mm</th>\n",
       "      <th>body_mass_g</th>\n",
       "      <th>sex</th>\n",
       "    </tr>\n",
       "  </thead>\n",
       "  <tbody>\n",
       "    <tr>\n",
       "      <th>286</th>\n",
       "      <td>Biscoe</td>\n",
       "      <td>46.2</td>\n",
       "      <td>14.4</td>\n",
       "      <td>214.0</td>\n",
       "      <td>4650.0</td>\n",
       "      <td>Female</td>\n",
       "    </tr>\n",
       "    <tr>\n",
       "      <th>110</th>\n",
       "      <td>Biscoe</td>\n",
       "      <td>38.1</td>\n",
       "      <td>16.5</td>\n",
       "      <td>198.0</td>\n",
       "      <td>3825.0</td>\n",
       "      <td>Female</td>\n",
       "    </tr>\n",
       "    <tr>\n",
       "      <th>63</th>\n",
       "      <td>Biscoe</td>\n",
       "      <td>41.1</td>\n",
       "      <td>18.2</td>\n",
       "      <td>192.0</td>\n",
       "      <td>4050.0</td>\n",
       "      <td>Male</td>\n",
       "    </tr>\n",
       "    <tr>\n",
       "      <th>91</th>\n",
       "      <td>Dream</td>\n",
       "      <td>41.1</td>\n",
       "      <td>18.1</td>\n",
       "      <td>205.0</td>\n",
       "      <td>4300.0</td>\n",
       "      <td>Male</td>\n",
       "    </tr>\n",
       "    <tr>\n",
       "      <th>329</th>\n",
       "      <td>Biscoe</td>\n",
       "      <td>48.1</td>\n",
       "      <td>15.1</td>\n",
       "      <td>209.0</td>\n",
       "      <td>5500.0</td>\n",
       "      <td>Male</td>\n",
       "    </tr>\n",
       "    <tr>\n",
       "      <th>...</th>\n",
       "      <td>...</td>\n",
       "      <td>...</td>\n",
       "      <td>...</td>\n",
       "      <td>...</td>\n",
       "      <td>...</td>\n",
       "      <td>...</td>\n",
       "    </tr>\n",
       "    <tr>\n",
       "      <th>246</th>\n",
       "      <td>Biscoe</td>\n",
       "      <td>44.5</td>\n",
       "      <td>14.3</td>\n",
       "      <td>216.0</td>\n",
       "      <td>4100.0</td>\n",
       "      <td>Female</td>\n",
       "    </tr>\n",
       "    <tr>\n",
       "      <th>320</th>\n",
       "      <td>Biscoe</td>\n",
       "      <td>48.5</td>\n",
       "      <td>15.0</td>\n",
       "      <td>219.0</td>\n",
       "      <td>4850.0</td>\n",
       "      <td>Female</td>\n",
       "    </tr>\n",
       "    <tr>\n",
       "      <th>280</th>\n",
       "      <td>Biscoe</td>\n",
       "      <td>45.3</td>\n",
       "      <td>13.8</td>\n",
       "      <td>208.0</td>\n",
       "      <td>4200.0</td>\n",
       "      <td>Female</td>\n",
       "    </tr>\n",
       "    <tr>\n",
       "      <th>182</th>\n",
       "      <td>Dream</td>\n",
       "      <td>40.9</td>\n",
       "      <td>16.6</td>\n",
       "      <td>187.0</td>\n",
       "      <td>3200.0</td>\n",
       "      <td>Female</td>\n",
       "    </tr>\n",
       "    <tr>\n",
       "      <th>295</th>\n",
       "      <td>Biscoe</td>\n",
       "      <td>48.6</td>\n",
       "      <td>16.0</td>\n",
       "      <td>230.0</td>\n",
       "      <td>5800.0</td>\n",
       "      <td>Male</td>\n",
       "    </tr>\n",
       "  </tbody>\n",
       "</table>\n",
       "<p>257 rows × 6 columns</p>\n",
       "</div>"
      ],
      "text/plain": [
       "     island  bill_length_mm  bill_depth_mm  flipper_length_mm  body_mass_g  \\\n",
       "286  Biscoe            46.2           14.4              214.0       4650.0   \n",
       "110  Biscoe            38.1           16.5              198.0       3825.0   \n",
       "63   Biscoe            41.1           18.2              192.0       4050.0   \n",
       "91    Dream            41.1           18.1              205.0       4300.0   \n",
       "329  Biscoe            48.1           15.1              209.0       5500.0   \n",
       "..      ...             ...            ...                ...          ...   \n",
       "246  Biscoe            44.5           14.3              216.0       4100.0   \n",
       "320  Biscoe            48.5           15.0              219.0       4850.0   \n",
       "280  Biscoe            45.3           13.8              208.0       4200.0   \n",
       "182   Dream            40.9           16.6              187.0       3200.0   \n",
       "295  Biscoe            48.6           16.0              230.0       5800.0   \n",
       "\n",
       "        sex  \n",
       "286  Female  \n",
       "110  Female  \n",
       "63     Male  \n",
       "91     Male  \n",
       "329    Male  \n",
       "..      ...  \n",
       "246  Female  \n",
       "320  Female  \n",
       "280  Female  \n",
       "182  Female  \n",
       "295    Male  \n",
       "\n",
       "[257 rows x 6 columns]"
      ]
     },
     "execution_count": 824,
     "metadata": {},
     "output_type": "execute_result"
    }
   ],
   "source": [
    "X_train_final = X_train_final.apply(lambda X_train_final: X_train_final.fillna(X_train_final.value_counts().index[0]))\n",
    "X_train_final"
   ]
  },
  {
   "cell_type": "code",
   "execution_count": 825,
   "id": "75ad9195",
   "metadata": {},
   "outputs": [
    {
     "data": {
      "text/plain": [
       "island               0\n",
       "bill_length_mm       0\n",
       "bill_depth_mm        0\n",
       "flipper_length_mm    0\n",
       "body_mass_g          0\n",
       "sex                  0\n",
       "dtype: int64"
      ]
     },
     "execution_count": 825,
     "metadata": {},
     "output_type": "execute_result"
    }
   ],
   "source": [
    "# final check of missing training features data\n",
    "X_train_final.isnull().sum()"
   ]
  },
  {
   "cell_type": "code",
   "execution_count": 826,
   "id": "6c237265",
   "metadata": {
    "scrolled": false
   },
   "outputs": [
    {
     "name": "stdout",
     "output_type": "stream",
     "text": [
      "No. of missing values for target training set (species): 0\n"
     ]
    }
   ],
   "source": [
    "print(\"No. of missing values for target training set (species):\", y_train.isnull().sum())"
   ]
  },
  {
   "cell_type": "code",
   "execution_count": 827,
   "id": "19c6cf17",
   "metadata": {
    "scrolled": true
   },
   "outputs": [
    {
     "data": {
      "text/plain": [
       "(257,)"
      ]
     },
     "execution_count": 827,
     "metadata": {},
     "output_type": "execute_result"
    }
   ],
   "source": [
    "# remove row 3 (row that was deleted from training features set)\n",
    "# y_train_pd = pd.DataFrame(y_train).reset_index()\n",
    "# y_train_pd.columns = [\"orig_index\", \"species\"]\n",
    "# y_train_pd[y_train_pd[\"orig_index\"]==3]\n",
    "y_train_final = y_train.drop([3])\n",
    "y_train_final.shape"
   ]
  },
  {
   "cell_type": "markdown",
   "id": "27d1ae38",
   "metadata": {},
   "source": [
    "**Missing data: test set**"
   ]
  },
  {
   "cell_type": "code",
   "execution_count": 828,
   "id": "fad191e9",
   "metadata": {},
   "outputs": [
    {
     "data": {
      "text/plain": [
       "island               0\n",
       "bill_length_mm       1\n",
       "bill_depth_mm        1\n",
       "flipper_length_mm    1\n",
       "body_mass_g          1\n",
       "sex                  3\n",
       "dtype: int64"
      ]
     },
     "execution_count": 828,
     "metadata": {},
     "output_type": "execute_result"
    }
   ],
   "source": [
    "# training features: number of missing values per variable\n",
    "X_test.isnull().sum()"
   ]
  },
  {
   "cell_type": "code",
   "execution_count": 829,
   "id": "09000c0d",
   "metadata": {},
   "outputs": [
    {
     "name": "stdout",
     "output_type": "stream",
     "text": [
      "No. of missing values for target test set (species): 0\n"
     ]
    }
   ],
   "source": [
    "print(\"No. of missing values for target test set (species):\", y_test.isnull().sum())"
   ]
  },
  {
   "cell_type": "code",
   "execution_count": 830,
   "id": "d188537f",
   "metadata": {},
   "outputs": [
    {
     "data": {
      "text/html": [
       "<div>\n",
       "<style scoped>\n",
       "    .dataframe tbody tr th:only-of-type {\n",
       "        vertical-align: middle;\n",
       "    }\n",
       "\n",
       "    .dataframe tbody tr th {\n",
       "        vertical-align: top;\n",
       "    }\n",
       "\n",
       "    .dataframe thead th {\n",
       "        text-align: right;\n",
       "    }\n",
       "</style>\n",
       "<table border=\"1\" class=\"dataframe\">\n",
       "  <thead>\n",
       "    <tr style=\"text-align: right;\">\n",
       "      <th></th>\n",
       "      <th>island</th>\n",
       "      <th>bill_length_mm</th>\n",
       "      <th>bill_depth_mm</th>\n",
       "      <th>flipper_length_mm</th>\n",
       "      <th>body_mass_g</th>\n",
       "      <th>sex</th>\n",
       "    </tr>\n",
       "  </thead>\n",
       "  <tbody>\n",
       "    <tr>\n",
       "      <th>9</th>\n",
       "      <td>Torgersen</td>\n",
       "      <td>42.0</td>\n",
       "      <td>20.2</td>\n",
       "      <td>190.0</td>\n",
       "      <td>4250.0</td>\n",
       "      <td>NaN</td>\n",
       "    </tr>\n",
       "    <tr>\n",
       "      <th>47</th>\n",
       "      <td>Dream</td>\n",
       "      <td>37.5</td>\n",
       "      <td>18.9</td>\n",
       "      <td>179.0</td>\n",
       "      <td>2975.0</td>\n",
       "      <td>NaN</td>\n",
       "    </tr>\n",
       "    <tr>\n",
       "      <th>339</th>\n",
       "      <td>Biscoe</td>\n",
       "      <td>NaN</td>\n",
       "      <td>NaN</td>\n",
       "      <td>NaN</td>\n",
       "      <td>NaN</td>\n",
       "      <td>NaN</td>\n",
       "    </tr>\n",
       "  </tbody>\n",
       "</table>\n",
       "</div>"
      ],
      "text/plain": [
       "        island  bill_length_mm  bill_depth_mm  flipper_length_mm  body_mass_g  \\\n",
       "9    Torgersen            42.0           20.2              190.0       4250.0   \n",
       "47       Dream            37.5           18.9              179.0       2975.0   \n",
       "339     Biscoe             NaN            NaN                NaN          NaN   \n",
       "\n",
       "     sex  \n",
       "9    NaN  \n",
       "47   NaN  \n",
       "339  NaN  "
      ]
     },
     "execution_count": 830,
     "metadata": {},
     "output_type": "execute_result"
    }
   ],
   "source": [
    "# show rows with missing data in test set\n",
    "X_test_null = pd.DataFrame(X_test, columns = X.columns)\n",
    "X_test_null = X_test_null[X_test_null.isnull().any(axis=1)]\n",
    "X_test_null"
   ]
  },
  {
   "cell_type": "code",
   "execution_count": 831,
   "id": "0463fb85",
   "metadata": {},
   "outputs": [
    {
     "data": {
      "text/html": [
       "<div>\n",
       "<style scoped>\n",
       "    .dataframe tbody tr th:only-of-type {\n",
       "        vertical-align: middle;\n",
       "    }\n",
       "\n",
       "    .dataframe tbody tr th {\n",
       "        vertical-align: top;\n",
       "    }\n",
       "\n",
       "    .dataframe thead th {\n",
       "        text-align: right;\n",
       "    }\n",
       "</style>\n",
       "<table border=\"1\" class=\"dataframe\">\n",
       "  <thead>\n",
       "    <tr style=\"text-align: right;\">\n",
       "      <th></th>\n",
       "      <th>island</th>\n",
       "      <th>bill_length_mm</th>\n",
       "      <th>bill_depth_mm</th>\n",
       "      <th>flipper_length_mm</th>\n",
       "      <th>body_mass_g</th>\n",
       "      <th>sex</th>\n",
       "    </tr>\n",
       "  </thead>\n",
       "  <tbody>\n",
       "    <tr>\n",
       "      <th>9</th>\n",
       "      <td>Torgersen</td>\n",
       "      <td>42.0</td>\n",
       "      <td>20.2</td>\n",
       "      <td>190.0</td>\n",
       "      <td>4250.0</td>\n",
       "      <td>NaN</td>\n",
       "    </tr>\n",
       "    <tr>\n",
       "      <th>47</th>\n",
       "      <td>Dream</td>\n",
       "      <td>37.5</td>\n",
       "      <td>18.9</td>\n",
       "      <td>179.0</td>\n",
       "      <td>2975.0</td>\n",
       "      <td>NaN</td>\n",
       "    </tr>\n",
       "  </tbody>\n",
       "</table>\n",
       "</div>"
      ],
      "text/plain": [
       "       island  bill_length_mm  bill_depth_mm  flipper_length_mm  body_mass_g  \\\n",
       "9   Torgersen            42.0           20.2              190.0       4250.0   \n",
       "47      Dream            37.5           18.9              179.0       2975.0   \n",
       "\n",
       "    sex  \n",
       "9   NaN  \n",
       "47  NaN  "
      ]
     },
     "execution_count": 831,
     "metadata": {},
     "output_type": "execute_result"
    }
   ],
   "source": [
    "# drop row 339 with missing values across\n",
    "X_test_final = X_test.dropna(subset=[\"bill_length_mm\"], axis=0)\n",
    "\n",
    "# replay\n",
    "X_test_null = pd.DataFrame(X_test_final, columns = X.columns)\n",
    "X_test_null = X_test_null[X_test_null.isnull().any(axis=1)]\n",
    "X_test_null"
   ]
  },
  {
   "cell_type": "code",
   "execution_count": 832,
   "id": "67290458",
   "metadata": {
    "scrolled": true
   },
   "outputs": [
    {
     "data": {
      "text/html": [
       "<div>\n",
       "<style scoped>\n",
       "    .dataframe tbody tr th:only-of-type {\n",
       "        vertical-align: middle;\n",
       "    }\n",
       "\n",
       "    .dataframe tbody tr th {\n",
       "        vertical-align: top;\n",
       "    }\n",
       "\n",
       "    .dataframe thead th {\n",
       "        text-align: right;\n",
       "    }\n",
       "</style>\n",
       "<table border=\"1\" class=\"dataframe\">\n",
       "  <thead>\n",
       "    <tr style=\"text-align: right;\">\n",
       "      <th></th>\n",
       "      <th>island</th>\n",
       "      <th>bill_length_mm</th>\n",
       "      <th>bill_depth_mm</th>\n",
       "      <th>flipper_length_mm</th>\n",
       "      <th>body_mass_g</th>\n",
       "      <th>sex</th>\n",
       "    </tr>\n",
       "  </thead>\n",
       "  <tbody>\n",
       "    <tr>\n",
       "      <th>174</th>\n",
       "      <td>Dream</td>\n",
       "      <td>43.2</td>\n",
       "      <td>16.6</td>\n",
       "      <td>187.0</td>\n",
       "      <td>2900.0</td>\n",
       "      <td>Female</td>\n",
       "    </tr>\n",
       "    <tr>\n",
       "      <th>225</th>\n",
       "      <td>Biscoe</td>\n",
       "      <td>46.5</td>\n",
       "      <td>13.5</td>\n",
       "      <td>210.0</td>\n",
       "      <td>4550.0</td>\n",
       "      <td>Female</td>\n",
       "    </tr>\n",
       "    <tr>\n",
       "      <th>137</th>\n",
       "      <td>Dream</td>\n",
       "      <td>40.2</td>\n",
       "      <td>20.1</td>\n",
       "      <td>200.0</td>\n",
       "      <td>3975.0</td>\n",
       "      <td>Male</td>\n",
       "    </tr>\n",
       "    <tr>\n",
       "      <th>223</th>\n",
       "      <td>Biscoe</td>\n",
       "      <td>50.0</td>\n",
       "      <td>15.2</td>\n",
       "      <td>218.0</td>\n",
       "      <td>5700.0</td>\n",
       "      <td>Male</td>\n",
       "    </tr>\n",
       "    <tr>\n",
       "      <th>117</th>\n",
       "      <td>Torgersen</td>\n",
       "      <td>37.3</td>\n",
       "      <td>20.5</td>\n",
       "      <td>199.0</td>\n",
       "      <td>3775.0</td>\n",
       "      <td>Male</td>\n",
       "    </tr>\n",
       "    <tr>\n",
       "      <th>...</th>\n",
       "      <td>...</td>\n",
       "      <td>...</td>\n",
       "      <td>...</td>\n",
       "      <td>...</td>\n",
       "      <td>...</td>\n",
       "      <td>...</td>\n",
       "    </tr>\n",
       "    <tr>\n",
       "      <th>259</th>\n",
       "      <td>Biscoe</td>\n",
       "      <td>48.7</td>\n",
       "      <td>15.7</td>\n",
       "      <td>208.0</td>\n",
       "      <td>5350.0</td>\n",
       "      <td>Male</td>\n",
       "    </tr>\n",
       "    <tr>\n",
       "      <th>88</th>\n",
       "      <td>Dream</td>\n",
       "      <td>38.3</td>\n",
       "      <td>19.2</td>\n",
       "      <td>189.0</td>\n",
       "      <td>3950.0</td>\n",
       "      <td>Male</td>\n",
       "    </tr>\n",
       "    <tr>\n",
       "      <th>139</th>\n",
       "      <td>Dream</td>\n",
       "      <td>39.7</td>\n",
       "      <td>17.9</td>\n",
       "      <td>193.0</td>\n",
       "      <td>4250.0</td>\n",
       "      <td>Male</td>\n",
       "    </tr>\n",
       "    <tr>\n",
       "      <th>77</th>\n",
       "      <td>Torgersen</td>\n",
       "      <td>37.2</td>\n",
       "      <td>19.4</td>\n",
       "      <td>184.0</td>\n",
       "      <td>3900.0</td>\n",
       "      <td>Male</td>\n",
       "    </tr>\n",
       "    <tr>\n",
       "      <th>255</th>\n",
       "      <td>Biscoe</td>\n",
       "      <td>48.4</td>\n",
       "      <td>16.3</td>\n",
       "      <td>220.0</td>\n",
       "      <td>5400.0</td>\n",
       "      <td>Male</td>\n",
       "    </tr>\n",
       "  </tbody>\n",
       "</table>\n",
       "<p>85 rows × 6 columns</p>\n",
       "</div>"
      ],
      "text/plain": [
       "        island  bill_length_mm  bill_depth_mm  flipper_length_mm  body_mass_g  \\\n",
       "174      Dream            43.2           16.6              187.0       2900.0   \n",
       "225     Biscoe            46.5           13.5              210.0       4550.0   \n",
       "137      Dream            40.2           20.1              200.0       3975.0   \n",
       "223     Biscoe            50.0           15.2              218.0       5700.0   \n",
       "117  Torgersen            37.3           20.5              199.0       3775.0   \n",
       "..         ...             ...            ...                ...          ...   \n",
       "259     Biscoe            48.7           15.7              208.0       5350.0   \n",
       "88       Dream            38.3           19.2              189.0       3950.0   \n",
       "139      Dream            39.7           17.9              193.0       4250.0   \n",
       "77   Torgersen            37.2           19.4              184.0       3900.0   \n",
       "255     Biscoe            48.4           16.3              220.0       5400.0   \n",
       "\n",
       "        sex  \n",
       "174  Female  \n",
       "225  Female  \n",
       "137    Male  \n",
       "223    Male  \n",
       "117    Male  \n",
       "..      ...  \n",
       "259    Male  \n",
       "88     Male  \n",
       "139    Male  \n",
       "77     Male  \n",
       "255    Male  \n",
       "\n",
       "[85 rows x 6 columns]"
      ]
     },
     "execution_count": 832,
     "metadata": {},
     "output_type": "execute_result"
    }
   ],
   "source": [
    "# fill in missing sex values with more frequent class\n",
    "X_test_final = X_test_final.apply(lambda X_test_final: X_test_final.fillna(X_test_final.value_counts().index[0]))\n",
    "X_test_final"
   ]
  },
  {
   "cell_type": "code",
   "execution_count": 833,
   "id": "cccf4391",
   "metadata": {
    "scrolled": false
   },
   "outputs": [
    {
     "data": {
      "text/plain": [
       "island               0\n",
       "bill_length_mm       0\n",
       "bill_depth_mm        0\n",
       "flipper_length_mm    0\n",
       "body_mass_g          0\n",
       "sex                  0\n",
       "dtype: int64"
      ]
     },
     "execution_count": 833,
     "metadata": {},
     "output_type": "execute_result"
    }
   ],
   "source": [
    "# final check of missing testing features data\n",
    "X_test_final.isnull().sum()"
   ]
  },
  {
   "cell_type": "code",
   "execution_count": 834,
   "id": "b456d0ba",
   "metadata": {},
   "outputs": [
    {
     "data": {
      "text/plain": [
       "(85,)"
      ]
     },
     "execution_count": 834,
     "metadata": {},
     "output_type": "execute_result"
    }
   ],
   "source": [
    "# remove row 339 (row that was deleted from test features set)\n",
    "y_test_final = y_test.drop([339])\n",
    "y_test_final.shape"
   ]
  },
  {
   "cell_type": "code",
   "execution_count": 835,
   "id": "3c8ce97d",
   "metadata": {},
   "outputs": [
    {
     "data": {
      "text/plain": [
       "174    Chinstrap\n",
       "225       Gentoo\n",
       "137       Adelie\n",
       "223       Gentoo\n",
       "117       Adelie\n",
       "         ...    \n",
       "259       Gentoo\n",
       "88        Adelie\n",
       "139       Adelie\n",
       "77        Adelie\n",
       "255       Gentoo\n",
       "Name: species, Length: 85, dtype: object"
      ]
     },
     "execution_count": 835,
     "metadata": {},
     "output_type": "execute_result"
    }
   ],
   "source": [
    "y_test_final"
   ]
  },
  {
   "cell_type": "markdown",
   "id": "63bb80b7",
   "metadata": {},
   "source": [
    "## Step 2: Prepare your data"
   ]
  },
  {
   "cell_type": "markdown",
   "id": "6d1a3c8c",
   "metadata": {},
   "source": [
    "### Make sure that your all appropriate variables are converted to categorical variables (as ordinal or one hot)"
   ]
  },
  {
   "cell_type": "markdown",
   "id": "c4f230ea",
   "metadata": {},
   "source": [
    "**Encoding variables: training set**"
   ]
  },
  {
   "cell_type": "code",
   "execution_count": 836,
   "id": "1cf6c302",
   "metadata": {},
   "outputs": [
    {
     "data": {
      "text/html": [
       "<div>\n",
       "<style scoped>\n",
       "    .dataframe tbody tr th:only-of-type {\n",
       "        vertical-align: middle;\n",
       "    }\n",
       "\n",
       "    .dataframe tbody tr th {\n",
       "        vertical-align: top;\n",
       "    }\n",
       "\n",
       "    .dataframe thead th {\n",
       "        text-align: right;\n",
       "    }\n",
       "</style>\n",
       "<table border=\"1\" class=\"dataframe\">\n",
       "  <thead>\n",
       "    <tr style=\"text-align: right;\">\n",
       "      <th></th>\n",
       "      <th>bill_length_mm</th>\n",
       "      <th>bill_depth_mm</th>\n",
       "      <th>flipper_length_mm</th>\n",
       "      <th>body_mass_g</th>\n",
       "      <th>island_Biscoe</th>\n",
       "      <th>island_Dream</th>\n",
       "      <th>island_Torgersen</th>\n",
       "      <th>sex_Female</th>\n",
       "      <th>sex_Male</th>\n",
       "    </tr>\n",
       "  </thead>\n",
       "  <tbody>\n",
       "    <tr>\n",
       "      <th>286</th>\n",
       "      <td>46.2</td>\n",
       "      <td>14.4</td>\n",
       "      <td>214.0</td>\n",
       "      <td>4650.0</td>\n",
       "      <td>1</td>\n",
       "      <td>0</td>\n",
       "      <td>0</td>\n",
       "      <td>1</td>\n",
       "      <td>0</td>\n",
       "    </tr>\n",
       "    <tr>\n",
       "      <th>110</th>\n",
       "      <td>38.1</td>\n",
       "      <td>16.5</td>\n",
       "      <td>198.0</td>\n",
       "      <td>3825.0</td>\n",
       "      <td>1</td>\n",
       "      <td>0</td>\n",
       "      <td>0</td>\n",
       "      <td>1</td>\n",
       "      <td>0</td>\n",
       "    </tr>\n",
       "    <tr>\n",
       "      <th>63</th>\n",
       "      <td>41.1</td>\n",
       "      <td>18.2</td>\n",
       "      <td>192.0</td>\n",
       "      <td>4050.0</td>\n",
       "      <td>1</td>\n",
       "      <td>0</td>\n",
       "      <td>0</td>\n",
       "      <td>0</td>\n",
       "      <td>1</td>\n",
       "    </tr>\n",
       "    <tr>\n",
       "      <th>91</th>\n",
       "      <td>41.1</td>\n",
       "      <td>18.1</td>\n",
       "      <td>205.0</td>\n",
       "      <td>4300.0</td>\n",
       "      <td>0</td>\n",
       "      <td>1</td>\n",
       "      <td>0</td>\n",
       "      <td>0</td>\n",
       "      <td>1</td>\n",
       "    </tr>\n",
       "    <tr>\n",
       "      <th>329</th>\n",
       "      <td>48.1</td>\n",
       "      <td>15.1</td>\n",
       "      <td>209.0</td>\n",
       "      <td>5500.0</td>\n",
       "      <td>1</td>\n",
       "      <td>0</td>\n",
       "      <td>0</td>\n",
       "      <td>0</td>\n",
       "      <td>1</td>\n",
       "    </tr>\n",
       "    <tr>\n",
       "      <th>...</th>\n",
       "      <td>...</td>\n",
       "      <td>...</td>\n",
       "      <td>...</td>\n",
       "      <td>...</td>\n",
       "      <td>...</td>\n",
       "      <td>...</td>\n",
       "      <td>...</td>\n",
       "      <td>...</td>\n",
       "      <td>...</td>\n",
       "    </tr>\n",
       "    <tr>\n",
       "      <th>246</th>\n",
       "      <td>44.5</td>\n",
       "      <td>14.3</td>\n",
       "      <td>216.0</td>\n",
       "      <td>4100.0</td>\n",
       "      <td>1</td>\n",
       "      <td>0</td>\n",
       "      <td>0</td>\n",
       "      <td>1</td>\n",
       "      <td>0</td>\n",
       "    </tr>\n",
       "    <tr>\n",
       "      <th>320</th>\n",
       "      <td>48.5</td>\n",
       "      <td>15.0</td>\n",
       "      <td>219.0</td>\n",
       "      <td>4850.0</td>\n",
       "      <td>1</td>\n",
       "      <td>0</td>\n",
       "      <td>0</td>\n",
       "      <td>1</td>\n",
       "      <td>0</td>\n",
       "    </tr>\n",
       "    <tr>\n",
       "      <th>280</th>\n",
       "      <td>45.3</td>\n",
       "      <td>13.8</td>\n",
       "      <td>208.0</td>\n",
       "      <td>4200.0</td>\n",
       "      <td>1</td>\n",
       "      <td>0</td>\n",
       "      <td>0</td>\n",
       "      <td>1</td>\n",
       "      <td>0</td>\n",
       "    </tr>\n",
       "    <tr>\n",
       "      <th>182</th>\n",
       "      <td>40.9</td>\n",
       "      <td>16.6</td>\n",
       "      <td>187.0</td>\n",
       "      <td>3200.0</td>\n",
       "      <td>0</td>\n",
       "      <td>1</td>\n",
       "      <td>0</td>\n",
       "      <td>1</td>\n",
       "      <td>0</td>\n",
       "    </tr>\n",
       "    <tr>\n",
       "      <th>295</th>\n",
       "      <td>48.6</td>\n",
       "      <td>16.0</td>\n",
       "      <td>230.0</td>\n",
       "      <td>5800.0</td>\n",
       "      <td>1</td>\n",
       "      <td>0</td>\n",
       "      <td>0</td>\n",
       "      <td>0</td>\n",
       "      <td>1</td>\n",
       "    </tr>\n",
       "  </tbody>\n",
       "</table>\n",
       "<p>257 rows × 9 columns</p>\n",
       "</div>"
      ],
      "text/plain": [
       "     bill_length_mm  bill_depth_mm  flipper_length_mm  body_mass_g  \\\n",
       "286            46.2           14.4              214.0       4650.0   \n",
       "110            38.1           16.5              198.0       3825.0   \n",
       "63             41.1           18.2              192.0       4050.0   \n",
       "91             41.1           18.1              205.0       4300.0   \n",
       "329            48.1           15.1              209.0       5500.0   \n",
       "..              ...            ...                ...          ...   \n",
       "246            44.5           14.3              216.0       4100.0   \n",
       "320            48.5           15.0              219.0       4850.0   \n",
       "280            45.3           13.8              208.0       4200.0   \n",
       "182            40.9           16.6              187.0       3200.0   \n",
       "295            48.6           16.0              230.0       5800.0   \n",
       "\n",
       "     island_Biscoe  island_Dream  island_Torgersen  sex_Female  sex_Male  \n",
       "286              1             0                 0           1         0  \n",
       "110              1             0                 0           1         0  \n",
       "63               1             0                 0           0         1  \n",
       "91               0             1                 0           0         1  \n",
       "329              1             0                 0           0         1  \n",
       "..             ...           ...               ...         ...       ...  \n",
       "246              1             0                 0           1         0  \n",
       "320              1             0                 0           1         0  \n",
       "280              1             0                 0           1         0  \n",
       "182              0             1                 0           1         0  \n",
       "295              1             0                 0           0         1  \n",
       "\n",
       "[257 rows x 9 columns]"
      ]
     },
     "execution_count": 836,
     "metadata": {},
     "output_type": "execute_result"
    }
   ],
   "source": [
    "# Apply one-hot encoding to sex (and island) feature\n",
    "# I used labelEncoder in project 1 but I shouldn't have since the sex of the penguins is not ordinal\n",
    "\n",
    "X_train_enc = pd.get_dummies(X_train_final)\n",
    "X_train_enc"
   ]
  },
  {
   "cell_type": "code",
   "execution_count": 837,
   "id": "fea517fb",
   "metadata": {
    "scrolled": true
   },
   "outputs": [
    {
     "data": {
      "text/html": [
       "<div>\n",
       "<style scoped>\n",
       "    .dataframe tbody tr th:only-of-type {\n",
       "        vertical-align: middle;\n",
       "    }\n",
       "\n",
       "    .dataframe tbody tr th {\n",
       "        vertical-align: top;\n",
       "    }\n",
       "\n",
       "    .dataframe thead th {\n",
       "        text-align: right;\n",
       "    }\n",
       "</style>\n",
       "<table border=\"1\" class=\"dataframe\">\n",
       "  <thead>\n",
       "    <tr style=\"text-align: right;\">\n",
       "      <th></th>\n",
       "      <th>Adelie</th>\n",
       "      <th>Chinstrap</th>\n",
       "      <th>Gentoo</th>\n",
       "    </tr>\n",
       "  </thead>\n",
       "  <tbody>\n",
       "    <tr>\n",
       "      <th>286</th>\n",
       "      <td>0</td>\n",
       "      <td>0</td>\n",
       "      <td>1</td>\n",
       "    </tr>\n",
       "    <tr>\n",
       "      <th>110</th>\n",
       "      <td>1</td>\n",
       "      <td>0</td>\n",
       "      <td>0</td>\n",
       "    </tr>\n",
       "    <tr>\n",
       "      <th>63</th>\n",
       "      <td>1</td>\n",
       "      <td>0</td>\n",
       "      <td>0</td>\n",
       "    </tr>\n",
       "    <tr>\n",
       "      <th>91</th>\n",
       "      <td>1</td>\n",
       "      <td>0</td>\n",
       "      <td>0</td>\n",
       "    </tr>\n",
       "    <tr>\n",
       "      <th>329</th>\n",
       "      <td>0</td>\n",
       "      <td>0</td>\n",
       "      <td>1</td>\n",
       "    </tr>\n",
       "    <tr>\n",
       "      <th>...</th>\n",
       "      <td>...</td>\n",
       "      <td>...</td>\n",
       "      <td>...</td>\n",
       "    </tr>\n",
       "    <tr>\n",
       "      <th>246</th>\n",
       "      <td>0</td>\n",
       "      <td>0</td>\n",
       "      <td>1</td>\n",
       "    </tr>\n",
       "    <tr>\n",
       "      <th>320</th>\n",
       "      <td>0</td>\n",
       "      <td>0</td>\n",
       "      <td>1</td>\n",
       "    </tr>\n",
       "    <tr>\n",
       "      <th>280</th>\n",
       "      <td>0</td>\n",
       "      <td>0</td>\n",
       "      <td>1</td>\n",
       "    </tr>\n",
       "    <tr>\n",
       "      <th>182</th>\n",
       "      <td>0</td>\n",
       "      <td>1</td>\n",
       "      <td>0</td>\n",
       "    </tr>\n",
       "    <tr>\n",
       "      <th>295</th>\n",
       "      <td>0</td>\n",
       "      <td>0</td>\n",
       "      <td>1</td>\n",
       "    </tr>\n",
       "  </tbody>\n",
       "</table>\n",
       "<p>257 rows × 3 columns</p>\n",
       "</div>"
      ],
      "text/plain": [
       "     Adelie  Chinstrap  Gentoo\n",
       "286       0          0       1\n",
       "110       1          0       0\n",
       "63        1          0       0\n",
       "91        1          0       0\n",
       "329       0          0       1\n",
       "..      ...        ...     ...\n",
       "246       0          0       1\n",
       "320       0          0       1\n",
       "280       0          0       1\n",
       "182       0          1       0\n",
       "295       0          0       1\n",
       "\n",
       "[257 rows x 3 columns]"
      ]
     },
     "execution_count": 837,
     "metadata": {},
     "output_type": "execute_result"
    }
   ],
   "source": [
    "# for target feature (species)\n",
    "y_train_enc = pd.get_dummies(y_train_final)\n",
    "y_train_enc"
   ]
  },
  {
   "cell_type": "markdown",
   "id": "7e7ead8d",
   "metadata": {},
   "source": [
    "**Encoding variables: testing set**"
   ]
  },
  {
   "cell_type": "code",
   "execution_count": 838,
   "id": "03385f77",
   "metadata": {},
   "outputs": [
    {
     "data": {
      "text/html": [
       "<div>\n",
       "<style scoped>\n",
       "    .dataframe tbody tr th:only-of-type {\n",
       "        vertical-align: middle;\n",
       "    }\n",
       "\n",
       "    .dataframe tbody tr th {\n",
       "        vertical-align: top;\n",
       "    }\n",
       "\n",
       "    .dataframe thead th {\n",
       "        text-align: right;\n",
       "    }\n",
       "</style>\n",
       "<table border=\"1\" class=\"dataframe\">\n",
       "  <thead>\n",
       "    <tr style=\"text-align: right;\">\n",
       "      <th></th>\n",
       "      <th>bill_length_mm</th>\n",
       "      <th>bill_depth_mm</th>\n",
       "      <th>flipper_length_mm</th>\n",
       "      <th>body_mass_g</th>\n",
       "      <th>island_Biscoe</th>\n",
       "      <th>island_Dream</th>\n",
       "      <th>island_Torgersen</th>\n",
       "      <th>sex_Female</th>\n",
       "      <th>sex_Male</th>\n",
       "    </tr>\n",
       "  </thead>\n",
       "  <tbody>\n",
       "    <tr>\n",
       "      <th>174</th>\n",
       "      <td>43.2</td>\n",
       "      <td>16.6</td>\n",
       "      <td>187.0</td>\n",
       "      <td>2900.0</td>\n",
       "      <td>0</td>\n",
       "      <td>1</td>\n",
       "      <td>0</td>\n",
       "      <td>1</td>\n",
       "      <td>0</td>\n",
       "    </tr>\n",
       "    <tr>\n",
       "      <th>225</th>\n",
       "      <td>46.5</td>\n",
       "      <td>13.5</td>\n",
       "      <td>210.0</td>\n",
       "      <td>4550.0</td>\n",
       "      <td>1</td>\n",
       "      <td>0</td>\n",
       "      <td>0</td>\n",
       "      <td>1</td>\n",
       "      <td>0</td>\n",
       "    </tr>\n",
       "    <tr>\n",
       "      <th>137</th>\n",
       "      <td>40.2</td>\n",
       "      <td>20.1</td>\n",
       "      <td>200.0</td>\n",
       "      <td>3975.0</td>\n",
       "      <td>0</td>\n",
       "      <td>1</td>\n",
       "      <td>0</td>\n",
       "      <td>0</td>\n",
       "      <td>1</td>\n",
       "    </tr>\n",
       "    <tr>\n",
       "      <th>223</th>\n",
       "      <td>50.0</td>\n",
       "      <td>15.2</td>\n",
       "      <td>218.0</td>\n",
       "      <td>5700.0</td>\n",
       "      <td>1</td>\n",
       "      <td>0</td>\n",
       "      <td>0</td>\n",
       "      <td>0</td>\n",
       "      <td>1</td>\n",
       "    </tr>\n",
       "    <tr>\n",
       "      <th>117</th>\n",
       "      <td>37.3</td>\n",
       "      <td>20.5</td>\n",
       "      <td>199.0</td>\n",
       "      <td>3775.0</td>\n",
       "      <td>0</td>\n",
       "      <td>0</td>\n",
       "      <td>1</td>\n",
       "      <td>0</td>\n",
       "      <td>1</td>\n",
       "    </tr>\n",
       "    <tr>\n",
       "      <th>...</th>\n",
       "      <td>...</td>\n",
       "      <td>...</td>\n",
       "      <td>...</td>\n",
       "      <td>...</td>\n",
       "      <td>...</td>\n",
       "      <td>...</td>\n",
       "      <td>...</td>\n",
       "      <td>...</td>\n",
       "      <td>...</td>\n",
       "    </tr>\n",
       "    <tr>\n",
       "      <th>259</th>\n",
       "      <td>48.7</td>\n",
       "      <td>15.7</td>\n",
       "      <td>208.0</td>\n",
       "      <td>5350.0</td>\n",
       "      <td>1</td>\n",
       "      <td>0</td>\n",
       "      <td>0</td>\n",
       "      <td>0</td>\n",
       "      <td>1</td>\n",
       "    </tr>\n",
       "    <tr>\n",
       "      <th>88</th>\n",
       "      <td>38.3</td>\n",
       "      <td>19.2</td>\n",
       "      <td>189.0</td>\n",
       "      <td>3950.0</td>\n",
       "      <td>0</td>\n",
       "      <td>1</td>\n",
       "      <td>0</td>\n",
       "      <td>0</td>\n",
       "      <td>1</td>\n",
       "    </tr>\n",
       "    <tr>\n",
       "      <th>139</th>\n",
       "      <td>39.7</td>\n",
       "      <td>17.9</td>\n",
       "      <td>193.0</td>\n",
       "      <td>4250.0</td>\n",
       "      <td>0</td>\n",
       "      <td>1</td>\n",
       "      <td>0</td>\n",
       "      <td>0</td>\n",
       "      <td>1</td>\n",
       "    </tr>\n",
       "    <tr>\n",
       "      <th>77</th>\n",
       "      <td>37.2</td>\n",
       "      <td>19.4</td>\n",
       "      <td>184.0</td>\n",
       "      <td>3900.0</td>\n",
       "      <td>0</td>\n",
       "      <td>0</td>\n",
       "      <td>1</td>\n",
       "      <td>0</td>\n",
       "      <td>1</td>\n",
       "    </tr>\n",
       "    <tr>\n",
       "      <th>255</th>\n",
       "      <td>48.4</td>\n",
       "      <td>16.3</td>\n",
       "      <td>220.0</td>\n",
       "      <td>5400.0</td>\n",
       "      <td>1</td>\n",
       "      <td>0</td>\n",
       "      <td>0</td>\n",
       "      <td>0</td>\n",
       "      <td>1</td>\n",
       "    </tr>\n",
       "  </tbody>\n",
       "</table>\n",
       "<p>85 rows × 9 columns</p>\n",
       "</div>"
      ],
      "text/plain": [
       "     bill_length_mm  bill_depth_mm  flipper_length_mm  body_mass_g  \\\n",
       "174            43.2           16.6              187.0       2900.0   \n",
       "225            46.5           13.5              210.0       4550.0   \n",
       "137            40.2           20.1              200.0       3975.0   \n",
       "223            50.0           15.2              218.0       5700.0   \n",
       "117            37.3           20.5              199.0       3775.0   \n",
       "..              ...            ...                ...          ...   \n",
       "259            48.7           15.7              208.0       5350.0   \n",
       "88             38.3           19.2              189.0       3950.0   \n",
       "139            39.7           17.9              193.0       4250.0   \n",
       "77             37.2           19.4              184.0       3900.0   \n",
       "255            48.4           16.3              220.0       5400.0   \n",
       "\n",
       "     island_Biscoe  island_Dream  island_Torgersen  sex_Female  sex_Male  \n",
       "174              0             1                 0           1         0  \n",
       "225              1             0                 0           1         0  \n",
       "137              0             1                 0           0         1  \n",
       "223              1             0                 0           0         1  \n",
       "117              0             0                 1           0         1  \n",
       "..             ...           ...               ...         ...       ...  \n",
       "259              1             0                 0           0         1  \n",
       "88               0             1                 0           0         1  \n",
       "139              0             1                 0           0         1  \n",
       "77               0             0                 1           0         1  \n",
       "255              1             0                 0           0         1  \n",
       "\n",
       "[85 rows x 9 columns]"
      ]
     },
     "execution_count": 838,
     "metadata": {},
     "output_type": "execute_result"
    }
   ],
   "source": [
    "X_test_enc = pd.get_dummies(X_test_final)\n",
    "X_test_enc"
   ]
  },
  {
   "cell_type": "code",
   "execution_count": 839,
   "id": "4d780b07",
   "metadata": {},
   "outputs": [
    {
     "data": {
      "text/html": [
       "<div>\n",
       "<style scoped>\n",
       "    .dataframe tbody tr th:only-of-type {\n",
       "        vertical-align: middle;\n",
       "    }\n",
       "\n",
       "    .dataframe tbody tr th {\n",
       "        vertical-align: top;\n",
       "    }\n",
       "\n",
       "    .dataframe thead th {\n",
       "        text-align: right;\n",
       "    }\n",
       "</style>\n",
       "<table border=\"1\" class=\"dataframe\">\n",
       "  <thead>\n",
       "    <tr style=\"text-align: right;\">\n",
       "      <th></th>\n",
       "      <th>Adelie</th>\n",
       "      <th>Chinstrap</th>\n",
       "      <th>Gentoo</th>\n",
       "    </tr>\n",
       "  </thead>\n",
       "  <tbody>\n",
       "    <tr>\n",
       "      <th>174</th>\n",
       "      <td>0</td>\n",
       "      <td>1</td>\n",
       "      <td>0</td>\n",
       "    </tr>\n",
       "    <tr>\n",
       "      <th>225</th>\n",
       "      <td>0</td>\n",
       "      <td>0</td>\n",
       "      <td>1</td>\n",
       "    </tr>\n",
       "    <tr>\n",
       "      <th>137</th>\n",
       "      <td>1</td>\n",
       "      <td>0</td>\n",
       "      <td>0</td>\n",
       "    </tr>\n",
       "    <tr>\n",
       "      <th>223</th>\n",
       "      <td>0</td>\n",
       "      <td>0</td>\n",
       "      <td>1</td>\n",
       "    </tr>\n",
       "    <tr>\n",
       "      <th>117</th>\n",
       "      <td>1</td>\n",
       "      <td>0</td>\n",
       "      <td>0</td>\n",
       "    </tr>\n",
       "    <tr>\n",
       "      <th>...</th>\n",
       "      <td>...</td>\n",
       "      <td>...</td>\n",
       "      <td>...</td>\n",
       "    </tr>\n",
       "    <tr>\n",
       "      <th>259</th>\n",
       "      <td>0</td>\n",
       "      <td>0</td>\n",
       "      <td>1</td>\n",
       "    </tr>\n",
       "    <tr>\n",
       "      <th>88</th>\n",
       "      <td>1</td>\n",
       "      <td>0</td>\n",
       "      <td>0</td>\n",
       "    </tr>\n",
       "    <tr>\n",
       "      <th>139</th>\n",
       "      <td>1</td>\n",
       "      <td>0</td>\n",
       "      <td>0</td>\n",
       "    </tr>\n",
       "    <tr>\n",
       "      <th>77</th>\n",
       "      <td>1</td>\n",
       "      <td>0</td>\n",
       "      <td>0</td>\n",
       "    </tr>\n",
       "    <tr>\n",
       "      <th>255</th>\n",
       "      <td>0</td>\n",
       "      <td>0</td>\n",
       "      <td>1</td>\n",
       "    </tr>\n",
       "  </tbody>\n",
       "</table>\n",
       "<p>85 rows × 3 columns</p>\n",
       "</div>"
      ],
      "text/plain": [
       "     Adelie  Chinstrap  Gentoo\n",
       "174       0          1       0\n",
       "225       0          0       1\n",
       "137       1          0       0\n",
       "223       0          0       1\n",
       "117       1          0       0\n",
       "..      ...        ...     ...\n",
       "259       0          0       1\n",
       "88        1          0       0\n",
       "139       1          0       0\n",
       "77        1          0       0\n",
       "255       0          0       1\n",
       "\n",
       "[85 rows x 3 columns]"
      ]
     },
     "execution_count": 839,
     "metadata": {},
     "output_type": "execute_result"
    }
   ],
   "source": [
    "# for target feature (species)\n",
    "y_test_enc = pd.get_dummies(y_test_final)\n",
    "y_test_enc"
   ]
  },
  {
   "cell_type": "markdown",
   "id": "53951087",
   "metadata": {},
   "source": [
    "### Perform any necessary feature scaling"
   ]
  },
  {
   "cell_type": "code",
   "execution_count": 840,
   "id": "9b30c9b1",
   "metadata": {
    "scrolled": true
   },
   "outputs": [],
   "source": [
    "## Scaling the continuous variables: `bill_length_mm`, `bill_depth_mm`, `flipper_length_mm`, `body_mass_g`\n",
    "# from sklearn.preprocessing import StandardScaler\n",
    "# scaler = StandardScaler()\n",
    "## Subset of the continous variables within the encoded features training set\n",
    "# X_train_enc_sub = X_train_enc[[\"bill_length_mm\", \"bill_depth_mm\", \"flipper_length_mm\", \"body_mass_g\"]]\n",
    "## Apply scaler to the subset\n",
    "# X_train_enc_sub_scaled = scaler.fit_transform(X_train_enc_sub)\n",
    "# X_train_enc_sub_scaled\n",
    "#\n",
    "## create df from scaled data\n",
    "# X_train_enc_scaled = pd.DataFrame(X_train_enc_sub_scaled, index=X_train_enc_sub.index, columns=X_train_enc_sub.columns)\n",
    "# X_train_enc_scaled\n",
    "#\n",
    "# X_train_cat = X_train_enc.drop([\"bill_length_mm\",\"bill_depth_mm\",\"flipper_length_mm\",\"body_mass_g\"], axis=1)\n",
    "# X_train_cat\n",
    "#\n",
    "## combine scaled data with hot-encoded (non-continuous features)\n",
    "# X_train_enc = pd.concat([X_train_enc_scaled, X_train_cat], axis=1)\n",
    "# X_train_enc"
   ]
  },
  {
   "cell_type": "markdown",
   "id": "c8316045",
   "metadata": {},
   "source": [
    "## Step 3: Select your target attribute. Based on the data exploration you did in Project 1, select which you are going to predict."
   ]
  },
  {
   "cell_type": "code",
   "execution_count": 841,
   "id": "dcd313e0",
   "metadata": {
    "scrolled": true
   },
   "outputs": [
    {
     "data": {
      "image/png": "[encoded data removed]",
      "text/plain": [
       "<Figure size 432x432 with 1 Axes>"
      ]
     },
     "metadata": {
      "needs_background": "light"
     },
     "output_type": "display_data"
    }
   ],
   "source": [
    "# target variable: species of penguin\n",
    "\n",
    "y_train_final.value_counts().plot(kind=\"bar\", figsize=(6,6))\n",
    "plt.ylabel(\"No. of penguins\")\n",
    "plt.title(\"Target Values by Species Count\") \n",
    "plt.show()"
   ]
  },
  {
   "cell_type": "markdown",
   "id": "3d54cbc7",
   "metadata": {},
   "source": [
    "## Step 4: Select two of the following supervised learning algorithms, ideally one from the first half of the list and one from the second half of the list \n",
    "\n",
    "- **K-Nearest Neighbor**\n",
    "  - \"k should be larger than the number of classes\"\n",
    "  - \"k should not be a multiple of the number of classes\"\n",
    "  - \"kNNs do not make any assumptions about the distribution of the data\"\n",
    "  - hyperparameters: # of neighbors, distance measure\n",
    "- ~~Linear Models~~\n",
    "- ~~Naïve Bayes~~\n",
    "- **Decision Trees** \n",
    "  - Single tree\n",
    "  - Random Forest\n",
    "  - Gradient Descent decision trees\n",
    "- ~~Support Vectors Machines~~"
   ]
  },
  {
   "cell_type": "markdown",
   "id": "333e42b8",
   "metadata": {},
   "source": [
    "## Step 5: For each of your selected models (classification: knn, decision trees)"
   ]
  },
  {
   "cell_type": "markdown",
   "id": "e5b0947c",
   "metadata": {},
   "source": [
    "- Run with the default parameters using cross-validation\n",
    "- Calculate precision, recall, and F1 for classification"
   ]
  },
  {
   "cell_type": "markdown",
   "id": "0de2f050",
   "metadata": {},
   "source": [
    "### k-nearest neighbors: default parameters"
   ]
  },
  {
   "cell_type": "code",
   "execution_count": null,
   "id": "19b69fbf",
   "metadata": {},
   "outputs": [],
   "source": [
    "from sklearn.neighbors import KNeighborsClassifier"
   ]
  },
  {
   "cell_type": "code",
   "execution_count": 871,
   "id": "83b62fa8",
   "metadata": {},
   "outputs": [
    {
     "name": "stdout",
     "output_type": "stream",
     "text": [
      "knn score using default parameters: 0.8249027237354085\n"
     ]
    }
   ],
   "source": [
    "# default parameters\n",
    "knn = KNeighborsClassifier() # default n_neighbors = 5\n",
    "knn.fit(X_train_enc, y_train_enc)\n",
    "print(\"knn score using default parameters: {}\".format(knn.score(X_train_enc, y_train_enc)))"
   ]
  },
  {
   "cell_type": "code",
   "execution_count": 877,
   "id": "b60b2aa6",
   "metadata": {},
   "outputs": [
    {
     "data": {
      "text/plain": [
       "<matplotlib.legend.Legend at 0x7ff355486a00>"
      ]
     },
     "execution_count": 877,
     "metadata": {},
     "output_type": "execute_result"
    },
    {
     "data": {
      "image/png": "[encoded data removed]",
      "text/plain": [
       "<Figure size 432x288 with 1 Axes>"
      ]
     },
     "metadata": {
      "needs_background": "light"
     },
     "output_type": "display_data"
    }
   ],
   "source": [
    "# comparing different k-values (n_neighbors)\n",
    "training_accuracy = []\n",
    "test_accuracy = []\n",
    "# run n_neighbors from 1 to 10\n",
    "neighbors_settings = range(1, 10)\n",
    "\n",
    "for n_neighbors in neighbors_settings:\n",
    "    # build the model\n",
    "    knn_vis = KNeighborsClassifier(n_neighbors=n_neighbors, algorithm=\"brute\")\n",
    "    knn_vis.fit(X_train_enc, y_train_enc)\n",
    "    # record training data accuracy\n",
    "    training_accuracy.append(knn_vis.score(X_train_enc, y_train_enc))\n",
    "    # record test/generalization accuracy\n",
    "    test_accuracy.append(knn_vis.score(X_test_enc, y_test_enc))\n",
    "    \n",
    "plt.plot(neighbors_settings, training_accuracy, label=\"training accuracy\")\n",
    "plt.plot(neighbors_settings, test_accuracy, label=\"test accuracy\")\n",
    "plt.ylabel(\"Accuracy\")\n",
    "plt.xlabel(\"n_neighbors\")\n",
    "plt.legend()"
   ]
  },
  {
   "cell_type": "code",
   "execution_count": 911,
   "id": "2fb323fa",
   "metadata": {},
   "outputs": [
    {
     "name": "stdout",
     "output_type": "stream",
     "text": [
      "Confusion matrix for default settings:\n",
      "[[35  1  2]\n",
      " [13  3  1]\n",
      " [ 0  0 30]]\n",
      "              precision    recall  f1-score   support\n",
      "\n",
      "     class 1       0.73      0.92      0.81        38\n",
      "     class 2       0.75      0.18      0.29        17\n",
      "     class 3       0.91      1.00      0.95        30\n",
      "\n",
      "    accuracy                           0.80        85\n",
      "   macro avg       0.80      0.70      0.68        85\n",
      "weighted avg       0.80      0.80      0.76        85\n",
      "\n"
     ]
    }
   ],
   "source": [
    "# confusion matrix\n",
    "from sklearn.metrics import confusion_matrix\n",
    "confusion = confusion_matrix(y_test_enc.values.argmax(axis=1), knn.predict(X_test_enc).argmax(axis=1)) # error: https://stackoverflow.com/questions/46953967/multilabel-indicator-is-not-supported-for-confusion-matrix\n",
    "print(\"Confusion matrix for default settings:\\n{}\".format(confusion))\n",
    "\n",
    "# classification report\n",
    "from sklearn.metrics import classification_report\n",
    "print(classification_report(y_test_enc.values.argmax(axis=1), knn.predict(X_test_enc).argmax(axis=1),\n",
    "                            target_names=[\"class 1\", \"class 2\",\"class 3\"]))"
   ]
  },
  {
   "cell_type": "markdown",
   "id": "e9920583",
   "metadata": {},
   "source": [
    "### k-nearest neighbors: default parameters using cross-validation"
   ]
  },
  {
   "cell_type": "code",
   "execution_count": 872,
   "id": "c21fa8f5",
   "metadata": {},
   "outputs": [
    {
     "name": "stdout",
     "output_type": "stream",
     "text": [
      "CV scores: [0.73076923 0.75       0.76470588 0.7254902  0.78431373]\n",
      "Mean of CV score: 0.7510558069381599\n"
     ]
    }
   ],
   "source": [
    "from sklearn.model_selection import cross_val_score\n",
    "\n",
    "# 5-fold CV\n",
    "cvs = cross_val_score(estimator=knn, X=X_train_enc, y=y_train_enc, cv=5)\n",
    "\n",
    "print(\"CV scores: {}\".format(cvs))\n",
    "print(\"Mean of CV score: {}\".format(np.mean(cvs)))\n",
    "# #print(\"Standard deviation of CV score: {}\".format(np.std(cvs)))"
   ]
  },
  {
   "cell_type": "code",
   "execution_count": 843,
   "id": "f13aae15",
   "metadata": {},
   "outputs": [
    {
     "data": {
      "text/plain": [
       "{'algorithm': 'auto',\n",
       " 'leaf_size': 30,\n",
       " 'metric': 'minkowski',\n",
       " 'metric_params': None,\n",
       " 'n_jobs': None,\n",
       " 'n_neighbors': 5,\n",
       " 'p': 2,\n",
       " 'weights': 'uniform'}"
      ]
     },
     "execution_count": 843,
     "metadata": {},
     "output_type": "execute_result"
    }
   ],
   "source": [
    "# https://scikit-learn.org/stable/modules/generated/sklearn.neighbors.KNeighborsClassifier.html\n",
    "knn.get_params()"
   ]
  },
  {
   "cell_type": "markdown",
   "id": "73466b51",
   "metadata": {},
   "source": [
    "### k-nearest neighbors: parameter tuning\n",
    "\n",
    "(Where possible) adjust 2-3 parameters for each model, report evaluation metrics for the best and worst performing parameter settings"
   ]
  },
  {
   "cell_type": "markdown",
   "id": "170dd6c1",
   "metadata": {},
   "source": [
    "**Grid search**"
   ]
  },
  {
   "cell_type": "code",
   "execution_count": 880,
   "id": "854b6ceb",
   "metadata": {},
   "outputs": [
    {
     "data": {
      "text/plain": [
       "GridSearchCV(cv=5, estimator=KNeighborsClassifier(),\n",
       "             param_grid={'n_neighbors': array([ 4,  5,  6,  7,  8,  9, 10, 11, 12, 13, 14]),\n",
       "                         'p': array([1]), 'weights': ['uniform', 'distance']})"
      ]
     },
     "execution_count": 880,
     "metadata": {},
     "output_type": "execute_result"
    }
   ],
   "source": [
    "from sklearn.model_selection import GridSearchCV\n",
    "\n",
    "# dictionary\n",
    "param_grid = {\"n_neighbors\": np.arange(4,15), \n",
    "              \"p\": np.arange(1,2), \n",
    "              \"weights\": [\"uniform\", \"distance\"]}\n",
    "\n",
    "# grid search on all values of k in dictionary\n",
    "knn_gscv = GridSearchCV(knn, param_grid, cv=5)\n",
    "knn_gscv.fit(X_train_enc, y_train_enc)"
   ]
  },
  {
   "cell_type": "code",
   "execution_count": 881,
   "id": "9f45f48d",
   "metadata": {},
   "outputs": [
    {
     "data": {
      "text/plain": [
       "{'n_neighbors': 5, 'p': 1, 'weights': 'distance'}"
      ]
     },
     "execution_count": 881,
     "metadata": {},
     "output_type": "execute_result"
    }
   ],
   "source": [
    "# best performing k (on training set)\n",
    "knn_gscv.best_params_"
   ]
  },
  {
   "cell_type": "code",
   "execution_count": 882,
   "id": "4d06581e",
   "metadata": {},
   "outputs": [
    {
     "data": {
      "text/plain": [
       "0.8209653092006033"
      ]
     },
     "execution_count": 882,
     "metadata": {},
     "output_type": "execute_result"
    }
   ],
   "source": [
    "# accuracy of best performing k\n",
    "knn_gscv.best_score_"
   ]
  },
  {
   "cell_type": "markdown",
   "id": "8252de44",
   "metadata": {},
   "source": [
    "### k-nearest neighbors: precision, recall, and F1 (post-grid search)"
   ]
  },
  {
   "cell_type": "code",
   "execution_count": 905,
   "id": "f65f21c1",
   "metadata": {
    "scrolled": true
   },
   "outputs": [
    {
     "name": "stdout",
     "output_type": "stream",
     "text": [
      "knn score (k=5) on test data: 0.7647058823529411\n",
      "Confusion matrix for k=5:\n",
      "[[30  6  2]\n",
      " [ 9  7  1]\n",
      " [ 0  0 30]]\n"
     ]
    }
   ],
   "source": [
    "# using hyperparameter results from grid search\n",
    "knn5 = KNeighborsClassifier(n_neighbors=5, p=1, weights=\"distance\")\n",
    "knn5.fit(X_train_enc, y_train_enc)\n",
    "print(\"knn score (k=5) on test data: {}\".format(knn5.score(X_test_enc, y_test_enc)))\n",
    "\n",
    "# confusion matrix\n",
    "confusion5 = confusion_matrix(y_test_enc.values.argmax(axis=1), knn5.predict(X_test_enc).argmax(axis=1)) # error: https://stackoverflow.com/questions/46953967/multilabel-indicator-is-not-supported-for-confusion-matrix\n",
    "print(\"Confusion matrix for k=5:\\n{}\".format(confusion5))"
   ]
  },
  {
   "cell_type": "code",
   "execution_count": 890,
   "id": "1a61fb86",
   "metadata": {
    "scrolled": true
   },
   "outputs": [
    {
     "name": "stdout",
     "output_type": "stream",
     "text": [
      "              precision    recall  f1-score   support\n",
      "\n",
      "     class 1       0.77      0.79      0.78        38\n",
      "     class 2       0.54      0.41      0.47        17\n",
      "     class 3       0.91      1.00      0.95        30\n",
      "\n",
      "    accuracy                           0.79        85\n",
      "   macro avg       0.74      0.73      0.73        85\n",
      "weighted avg       0.77      0.79      0.78        85\n",
      "\n"
     ]
    }
   ],
   "source": [
    "# classification report\n",
    "print(classification_report(y_test_enc.values.argmax(axis=1), knn5.predict(X_test_enc).argmax(axis=1),\n",
    "                            target_names=[\"class 1\", \"class 2\", \"class 3\"]))"
   ]
  },
  {
   "cell_type": "code",
   "execution_count": 906,
   "id": "c77d1d32",
   "metadata": {},
   "outputs": [
    {
     "name": "stdout",
     "output_type": "stream",
     "text": [
      "knn score (k=9) on test data: 0.7764705882352941\n",
      "Confusion matrix for k=9:\n",
      "[[34  2  2]\n",
      " [11  5  1]\n",
      " [ 0  0 30]]\n"
     ]
    }
   ],
   "source": [
    "knn9 = KNeighborsClassifier(n_neighbors=9, p=1, weights=\"distance\")\n",
    "knn9.fit(X_train_enc, y_train_enc)\n",
    "print(\"knn score (k=9) on test data: {}\".format(knn9.score(X_test_enc, y_test_enc)))\n",
    "\n",
    "# confusion matrix\n",
    "confusion9b = confusion_matrix(y_test_enc.values.argmax(axis=1), knn9.predict(X_test_enc).argmax(axis=1))\n",
    "print(\"Confusion matrix for k=9:\\n{}\".format(confusion9))"
   ]
  },
  {
   "cell_type": "code",
   "execution_count": 895,
   "id": "1a093444",
   "metadata": {},
   "outputs": [
    {
     "name": "stdout",
     "output_type": "stream",
     "text": [
      "              precision    recall  f1-score   support\n",
      "\n",
      "     class 1       0.76      0.89      0.82        38\n",
      "     class 2       0.71      0.29      0.42        17\n",
      "     class 3       0.91      1.00      0.95        30\n",
      "\n",
      "    accuracy                           0.81        85\n",
      "   macro avg       0.79      0.73      0.73        85\n",
      "weighted avg       0.80      0.81      0.79        85\n",
      "\n"
     ]
    }
   ],
   "source": [
    "# classification report\n",
    "print(classification_report(y_test_enc.values.argmax(axis=1), knn9.predict(X_test_enc).argmax(axis=1),\n",
    "                            target_names=[\"class 1\", \"class 2\", \"class 3\"]))"
   ]
  },
  {
   "cell_type": "code",
   "execution_count": 909,
   "id": "c5174c81",
   "metadata": {},
   "outputs": [
    {
     "name": "stdout",
     "output_type": "stream",
     "text": [
      "knn score (k=4) on test data: 0.6\n",
      "Confusion matrix for k=4:\n",
      "[[35  1  2]\n",
      " [13  3  1]\n",
      " [ 0  0 30]]\n",
      "              precision    recall  f1-score   support\n",
      "\n",
      "     class 1       0.73      0.92      0.81        38\n",
      "     class 2       0.75      0.18      0.29        17\n",
      "     class 3       0.91      1.00      0.95        30\n",
      "\n",
      "    accuracy                           0.80        85\n",
      "   macro avg       0.80      0.70      0.68        85\n",
      "weighted avg       0.80      0.80      0.76        85\n",
      "\n"
     ]
    }
   ],
   "source": [
    "# worst-performing parameter settings?\n",
    "knn4 = KNeighborsClassifier(n_neighbors=4)\n",
    "knn4.fit(X_train_enc, y_train_enc)\n",
    "print(\"knn score (k=4) on test data: {}\".format(knn4.score(X_test_enc, y_test_enc)))\n",
    "\n",
    "# confusion matrix\n",
    "confusion4 = confusion_matrix(y_test_enc.values.argmax(axis=1), knn4.predict(X_test_enc).argmax(axis=1))\n",
    "print(\"Confusion matrix for k=4:\\n{}\".format(confusion4))\n",
    "\n",
    "# classification report\n",
    "print(classification_report(y_test_enc.values.argmax(axis=1), knn4.predict(X_test_enc).argmax(axis=1),\n",
    "                            target_names=[\"class 1\", \"class 2\", \"class 3\"]))"
   ]
  },
  {
   "cell_type": "markdown",
   "id": "a5aadb89",
   "metadata": {},
   "source": [
    "### Decision trees: default parameters"
   ]
  },
  {
   "cell_type": "code",
   "execution_count": 914,
   "id": "bd9665bc",
   "metadata": {
    "scrolled": true
   },
   "outputs": [
    {
     "name": "stdout",
     "output_type": "stream",
     "text": [
      "Accuracy on training set: 1.0\n",
      "Accuracy on test set: 0.9647058823529412\n",
      "Confusion matrix:\n",
      "[[37  1  0]\n",
      " [ 1 16  0]\n",
      " [ 1  0 29]]\n",
      "              precision    recall  f1-score   support\n",
      "\n",
      "     class 1       0.95      0.97      0.96        38\n",
      "     class 2       0.94      0.94      0.94        17\n",
      "     class 3       1.00      0.97      0.98        30\n",
      "\n",
      "    accuracy                           0.96        85\n",
      "   macro avg       0.96      0.96      0.96        85\n",
      "weighted avg       0.97      0.96      0.96        85\n",
      "\n"
     ]
    }
   ],
   "source": [
    "from sklearn.tree import DecisionTreeClassifier\n",
    "\n",
    "dt = DecisionTreeClassifier()\n",
    "dt.fit(X_train_enc, y_train_enc)\n",
    "\n",
    "# accuracy scores\n",
    "print(\"Accuracy on training set: {}\".format(dt.score(X_train_enc, y_train_enc)))\n",
    "print(\"Accuracy on test set: {}\".format(dt.score(X_test_enc, y_test_enc)))\n",
    "\n",
    "# confusion matrix\n",
    "confusion_dt = confusion_matrix(y_test_enc.values.argmax(axis=1), dt.predict(X_test_enc).argmax(axis=1))\n",
    "print(\"Confusion matrix:\\n{}\".format(confusion_dt))\n",
    "\n",
    "# classification report\n",
    "print(classification_report(y_test_enc.values.argmax(axis=1), dt.predict(X_test_enc).argmax(axis=1),\n",
    "                            target_names=[\"class 1\", \"class 2\",\"class 3\"]))"
   ]
  },
  {
   "cell_type": "code",
   "execution_count": 856,
   "id": "8169f007",
   "metadata": {},
   "outputs": [
    {
     "name": "stdout",
     "output_type": "stream",
     "text": [
      "Feature importances:\n",
      "[0.3521718  0.08207952 0.5214371  0.02096462 0.         0.02334696\n",
      " 0.         0.         0.        ]\n"
     ]
    }
   ],
   "source": [
    "print(\"Feature importances:\")\n",
    "print(dt.feature_importances_)"
   ]
  },
  {
   "cell_type": "code",
   "execution_count": 857,
   "id": "05da3636",
   "metadata": {
    "scrolled": true
   },
   "outputs": [
    {
     "data": {
      "image/png": "[encoded data removed]",
      "text/plain": [
       "<Figure size 432x288 with 1 Axes>"
      ]
     },
     "metadata": {
      "needs_background": "light"
     },
     "output_type": "display_data"
    }
   ],
   "source": [
    "def plot_feature_importances_cancer(model):\n",
    "    n_features = X_train_enc.shape[1]\n",
    "    plt.barh(np.arange(n_features), model.feature_importances_, align='center')\n",
    "    plt.yticks(np.arange(n_features), X_train_enc.columns)\n",
    "    plt.xlabel(\"Feature importance\")\n",
    "    plt.ylabel(\"Feature\")\n",
    "    plt.ylim(-1, n_features)\n",
    "\n",
    "plot_feature_importances_cancer(dt)"
   ]
  },
  {
   "cell_type": "markdown",
   "id": "6c973aa8",
   "metadata": {},
   "source": [
    "### Decision trees: default parameters using cross-validation"
   ]
  },
  {
   "cell_type": "code",
   "execution_count": 904,
   "id": "fdd06981",
   "metadata": {},
   "outputs": [
    {
     "name": "stdout",
     "output_type": "stream",
     "text": [
      "CV scores: [0.98076923 1.         1.         0.98039216 0.96078431]\n",
      "Mean of CV score: 0.9843891402714933\n"
     ]
    }
   ],
   "source": [
    "# 5-fold CV\n",
    "cvs_dt = cross_val_score(estimator=dt, X=X_train_enc, y=y_train_enc, cv=5)\n",
    "\n",
    "print(\"CV scores:\", cvs_dt)\n",
    "print(\"Mean of CV score:\", np.mean(cvs_dt))"
   ]
  },
  {
   "cell_type": "code",
   "execution_count": 859,
   "id": "3b0a8395",
   "metadata": {},
   "outputs": [
    {
     "data": {
      "text/plain": [
       "{'ccp_alpha': 0.0,\n",
       " 'class_weight': None,\n",
       " 'criterion': 'gini',\n",
       " 'max_depth': None,\n",
       " 'max_features': None,\n",
       " 'max_leaf_nodes': None,\n",
       " 'min_impurity_decrease': 0.0,\n",
       " 'min_impurity_split': None,\n",
       " 'min_samples_leaf': 1,\n",
       " 'min_samples_split': 2,\n",
       " 'min_weight_fraction_leaf': 0.0,\n",
       " 'random_state': 0,\n",
       " 'splitter': 'best'}"
      ]
     },
     "execution_count": 859,
     "metadata": {},
     "output_type": "execute_result"
    }
   ],
   "source": [
    "# https://scikit-learn.org/stable/modules/generated/sklearn.tree.DecisionTreeClassifier.html\n",
    "dt.get_params()"
   ]
  },
  {
   "cell_type": "markdown",
   "id": "a28d1fb3",
   "metadata": {},
   "source": [
    "### Decision trees: parameter tuning\n",
    "**Grid search**"
   ]
  },
  {
   "cell_type": "code",
   "execution_count": 860,
   "id": "7bc8a260",
   "metadata": {},
   "outputs": [
    {
     "data": {
      "text/plain": [
       "GridSearchCV(cv=5, estimator=DecisionTreeClassifier(random_state=0),\n",
       "             param_grid={'max_depth': array([1, 2, 3, 4, 5, 6, 7, 8, 9]),\n",
       "                         'min_samples_leaf': array([1, 2, 3, 4, 5, 6, 7, 8, 9]),\n",
       "                         'splitter': ['best', 'random']})"
      ]
     },
     "execution_count": 860,
     "metadata": {},
     "output_type": "execute_result"
    }
   ],
   "source": [
    "param_grid_dt = {\"max_depth\": np.arange(1,10), \n",
    "                 \"min_samples_leaf\": np.arange(1,10), \n",
    "                 \"splitter\": [\"best\", \"random\"]}\n",
    "\n",
    "# grid search on all values of k in dictionary\n",
    "dt_gscv = GridSearchCV(dt, param_grid_dt, cv=5)\n",
    "dt_gscv.fit(X_train_enc, y_train_enc)"
   ]
  },
  {
   "cell_type": "code",
   "execution_count": 861,
   "id": "e54b4c16",
   "metadata": {},
   "outputs": [
    {
     "name": "stdout",
     "output_type": "stream",
     "text": [
      "Best performing parameters: {'max_depth': 4, 'min_samples_leaf': 1, 'splitter': 'best'}\n",
      "Best accuracy score: 0.9922322775263952\n"
     ]
    }
   ],
   "source": [
    "print(\"Best performing parameters:\", dt_gscv.best_params_)\n",
    "print(\"Best accuracy score:\", dt_gscv.best_score_)"
   ]
  },
  {
   "cell_type": "markdown",
   "id": "c41c2cb1",
   "metadata": {},
   "source": [
    "### Decision trees: precision, recall, and F1 (post-grid search)"
   ]
  },
  {
   "cell_type": "code",
   "execution_count": 912,
   "id": "b65dbcca",
   "metadata": {},
   "outputs": [
    {
     "name": "stdout",
     "output_type": "stream",
     "text": [
      "Confusion matrix:\n",
      "[[37  1  0]\n",
      " [ 1 16  0]\n",
      " [ 1  0 29]]\n",
      "              precision    recall  f1-score   support\n",
      "\n",
      "     class 1       0.95      0.97      0.96        38\n",
      "     class 2       0.94      0.94      0.94        17\n",
      "     class 3       1.00      0.97      0.98        30\n",
      "\n",
      "    accuracy                           0.96        85\n",
      "   macro avg       0.96      0.96      0.96        85\n",
      "weighted avg       0.97      0.96      0.96        85\n",
      "\n"
     ]
    }
   ],
   "source": [
    "# using hyperparameter results from grid search\n",
    "dt4 = DecisionTreeClassifier(max_depth=4, min_samples_leaf=1, splitter=\"best\")\n",
    "dt4.fit(X_train_enc, y_train_enc)\n",
    "\n",
    "# confusion matrix\n",
    "from sklearn.metrics import confusion_matrix\n",
    "confusion4 = confusion_matrix(y_test_enc.values.argmax(axis=1), dt4.predict(X_test_enc).argmax(axis=1))\n",
    "print(\"Confusion matrix:\\n{}\".format(confusion4))\n",
    "\n",
    "# classification report\n",
    "print(classification_report(y_test_enc.values.argmax(axis=1), dt4.predict(X_test_enc).argmax(axis=1),\n",
    "                            target_names=[\"class 1\", \"class 2\", \"class 3\"]))"
   ]
  },
  {
   "cell_type": "code",
   "execution_count": 915,
   "id": "e81650dc",
   "metadata": {},
   "outputs": [
    {
     "data": {
      "text/plain": [
       "<matplotlib.legend.Legend at 0x7ff352eabfd0>"
      ]
     },
     "execution_count": 915,
     "metadata": {},
     "output_type": "execute_result"
    },
    {
     "data": {
      "image/png": "[encoded data removed]",
      "text/plain": [
       "<Figure size 432x288 with 1 Axes>"
      ]
     },
     "metadata": {
      "needs_background": "light"
     },
     "output_type": "display_data"
    }
   ],
   "source": [
    "# worst-performing parameter settings?\n",
    "# comparing different k-values (n_neighbors)\n",
    "training_accuracy_dt = []\n",
    "test_accuracy_dt = []\n",
    "# run max_depth from 1 to 10\n",
    "depth_settings = range(1, 10)\n",
    "\n",
    "for max_depth in depth_settings:\n",
    "    # build the model\n",
    "    dt_vis = DecisionTreeClassifier(max_depth=max_depth)\n",
    "    dt_vis.fit(X_train_enc, y_train_enc)\n",
    "    # record training data accuracy\n",
    "    training_accuracy_dt.append(dt_vis.score(X_train_enc, y_train_enc))\n",
    "    # record test/generalization accuracy\n",
    "    test_accuracy_dt.append(dt_vis.score(X_test_enc, y_test_enc))\n",
    "    \n",
    "plt.plot(depth_settings, training_accuracy_dt, label=\"training accuracy\")\n",
    "plt.plot(depth_settings, test_accuracy_dt, label=\"test accuracy\")\n",
    "plt.ylabel(\"Accuracy\")\n",
    "plt.xlabel(\"max_depth\")\n",
    "plt.legend()"
   ]
  },
  {
   "cell_type": "code",
   "execution_count": 921,
   "id": "65393eea",
   "metadata": {},
   "outputs": [
    {
     "name": "stdout",
     "output_type": "stream",
     "text": [
      "Accuracy on training set: 0.9688715953307393\n",
      "Accuracy on test set: 0.9529411764705882\n",
      "Confusion matrix:\n",
      "[[37  1  0]\n",
      " [ 1 16  0]\n",
      " [ 1  0 29]]\n",
      "              precision    recall  f1-score   support\n",
      "\n",
      "     class 1       0.95      0.97      0.96        38\n",
      "     class 2       0.88      0.88      0.88        17\n",
      "     class 3       1.00      0.97      0.98        30\n",
      "\n",
      "    accuracy                           0.95        85\n",
      "   macro avg       0.94      0.94      0.94        85\n",
      "weighted avg       0.95      0.95      0.95        85\n",
      "\n"
     ]
    }
   ],
   "source": [
    "# worst-performing parameter settings?\n",
    "dt2 = DecisionTreeClassifier(max_depth=2)\n",
    "dt2.fit(X_train_enc, y_train_enc)\n",
    "\n",
    "# accuracy scores\n",
    "print(\"Accuracy on training set: {}\".format(dt2.score(X_train_enc, y_train_enc)))\n",
    "print(\"Accuracy on test set: {}\".format(dt2.score(X_test_enc, y_test_enc)))\n",
    "\n",
    "# confusion matrix\n",
    "confusion2 = confusion_matrix(y_test_enc.values.argmax(axis=1), dt2.predict(X_test_enc).argmax(axis=1))\n",
    "print(\"Confusion matrix:\\n{}\".format(confusion4))\n",
    "\n",
    "# classification report\n",
    "print(classification_report(y_test_enc.values.argmax(axis=1), dt2.predict(X_test_enc).argmax(axis=1),\n",
    "                            target_names=[\"class 1\", \"class 2\", \"class 3\"]))"
   ]
  }
 ],
 "metadata": {
  "kernelspec": {
   "display_name": "Python 3",
   "language": "python",
   "name": "python3"
  },
  "language_info": {
   "codemirror_mode": {
    "name": "ipython",
    "version": 3
   },
   "file_extension": ".py",
   "mimetype": "text/x-python",
   "name": "python",
   "nbconvert_exporter": "python",
   "pygments_lexer": "ipython3",
   "version": "3.8.10"
  }
 },
 "nbformat": 4,
 "nbformat_minor": 5
}
